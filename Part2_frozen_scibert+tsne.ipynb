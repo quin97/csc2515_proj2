{
  "nbformat": 4,
  "nbformat_minor": 0,
  "metadata": {
    "colab": {
      "name": "Part2.ipynb",
      "provenance": [],
      "collapsed_sections": []
    },
    "kernelspec": {
      "name": "python3",
      "display_name": "Python 3"
    }
  },
  "cells": [
    {
      "cell_type": "code",
      "metadata": {
        "colab": {
          "base_uri": "https://localhost:8080/"
        },
        "id": "y6IScru_xPAJ",
        "outputId": "01419518-3835-48c3-ea26-9382732a9a0b"
      },
      "source": [
        "from google.colab import drive\n",
        "drive.mount('/content/drive')"
      ],
      "execution_count": null,
      "outputs": [
        {
          "output_type": "stream",
          "text": [
            "Mounted at /content/drive\n"
          ],
          "name": "stdout"
        }
      ]
    },
    {
      "cell_type": "code",
      "metadata": {
        "colab": {
          "base_uri": "https://localhost:8080/"
        },
        "id": "WccYI47nxqvg",
        "outputId": "e927107d-b1ab-4861-8dd7-84e2c4df4648"
      },
      "source": [
        "cd /content/drive/MyDrive/Colab Notebooks/Part2"
      ],
      "execution_count": null,
      "outputs": [
        {
          "output_type": "stream",
          "text": [
            "/content/drive/MyDrive/Colab Notebooks/Part2\n",
            "time: 5.47 ms\n"
          ],
          "name": "stdout"
        }
      ]
    },
    {
      "cell_type": "code",
      "metadata": {
        "id": "wVkrLWb0A8zG",
        "colab": {
          "base_uri": "https://localhost:8080/"
        },
        "outputId": "8ddf5c0c-ec61-49ff-cf5e-d4bca928ef76"
      },
      "source": [
        "import nltk\n",
        "nltk.download('popular')\n",
        "from nltk.tokenize import word_tokenize\n",
        "from nltk.corpus import stopwords\n",
        "from nltk.stem import WordNetLemmatizer"
      ],
      "execution_count": null,
      "outputs": [
        {
          "output_type": "stream",
          "text": [
            "[nltk_data] Downloading collection 'popular'\n",
            "[nltk_data]    | \n",
            "[nltk_data]    | Downloading package cmudict to /root/nltk_data...\n",
            "[nltk_data]    |   Package cmudict is already up-to-date!\n",
            "[nltk_data]    | Downloading package gazetteers to /root/nltk_data...\n",
            "[nltk_data]    |   Package gazetteers is already up-to-date!\n",
            "[nltk_data]    | Downloading package genesis to /root/nltk_data...\n",
            "[nltk_data]    |   Package genesis is already up-to-date!\n",
            "[nltk_data]    | Downloading package gutenberg to /root/nltk_data...\n",
            "[nltk_data]    |   Package gutenberg is already up-to-date!\n",
            "[nltk_data]    | Downloading package inaugural to /root/nltk_data...\n",
            "[nltk_data]    |   Package inaugural is already up-to-date!\n",
            "[nltk_data]    | Downloading package movie_reviews to\n",
            "[nltk_data]    |     /root/nltk_data...\n",
            "[nltk_data]    |   Package movie_reviews is already up-to-date!\n",
            "[nltk_data]    | Downloading package names to /root/nltk_data...\n",
            "[nltk_data]    |   Package names is already up-to-date!\n",
            "[nltk_data]    | Downloading package shakespeare to /root/nltk_data...\n",
            "[nltk_data]    |   Package shakespeare is already up-to-date!\n",
            "[nltk_data]    | Downloading package stopwords to /root/nltk_data...\n",
            "[nltk_data]    |   Package stopwords is already up-to-date!\n",
            "[nltk_data]    | Downloading package treebank to /root/nltk_data...\n",
            "[nltk_data]    |   Package treebank is already up-to-date!\n",
            "[nltk_data]    | Downloading package twitter_samples to\n",
            "[nltk_data]    |     /root/nltk_data...\n",
            "[nltk_data]    |   Package twitter_samples is already up-to-date!\n",
            "[nltk_data]    | Downloading package omw to /root/nltk_data...\n",
            "[nltk_data]    |   Package omw is already up-to-date!\n",
            "[nltk_data]    | Downloading package wordnet to /root/nltk_data...\n",
            "[nltk_data]    |   Package wordnet is already up-to-date!\n",
            "[nltk_data]    | Downloading package wordnet_ic to /root/nltk_data...\n",
            "[nltk_data]    |   Package wordnet_ic is already up-to-date!\n",
            "[nltk_data]    | Downloading package words to /root/nltk_data...\n",
            "[nltk_data]    |   Package words is already up-to-date!\n",
            "[nltk_data]    | Downloading package maxent_ne_chunker to\n",
            "[nltk_data]    |     /root/nltk_data...\n",
            "[nltk_data]    |   Package maxent_ne_chunker is already up-to-date!\n",
            "[nltk_data]    | Downloading package punkt to /root/nltk_data...\n",
            "[nltk_data]    |   Package punkt is already up-to-date!\n",
            "[nltk_data]    | Downloading package snowball_data to\n",
            "[nltk_data]    |     /root/nltk_data...\n",
            "[nltk_data]    |   Package snowball_data is already up-to-date!\n",
            "[nltk_data]    | Downloading package averaged_perceptron_tagger to\n",
            "[nltk_data]    |     /root/nltk_data...\n",
            "[nltk_data]    |   Package averaged_perceptron_tagger is already up-\n",
            "[nltk_data]    |       to-date!\n",
            "[nltk_data]    | \n",
            "[nltk_data]  Done downloading collection popular\n",
            "time: 276 ms\n"
          ],
          "name": "stdout"
        }
      ]
    },
    {
      "cell_type": "code",
      "metadata": {
        "id": "DbRzrYNHzwIh",
        "colab": {
          "base_uri": "https://localhost:8080/"
        },
        "outputId": "1a4adeb0-0527-4e14-b986-f1104ca02480"
      },
      "source": [
        "import sklearn\n",
        "import pandas as pd"
      ],
      "execution_count": null,
      "outputs": [
        {
          "output_type": "stream",
          "text": [
            "time: 10.1 ms\n"
          ],
          "name": "stdout"
        }
      ]
    },
    {
      "cell_type": "code",
      "metadata": {
        "colab": {
          "base_uri": "https://localhost:8080/"
        },
        "id": "RVUeCeYnfrBa",
        "outputId": "3a1e291e-8846-4630-dfe6-5636c56446d6"
      },
      "source": [
        "!pip install ipython-autotime\n",
        "\n",
        "%load_ext autotime"
      ],
      "execution_count": null,
      "outputs": [
        {
          "output_type": "stream",
          "text": [
            "Requirement already satisfied: ipython-autotime in /usr/local/lib/python3.6/dist-packages (0.2.0)\n",
            "Requirement already satisfied: ipython in /usr/local/lib/python3.6/dist-packages (from ipython-autotime) (5.5.0)\n",
            "Requirement already satisfied: setuptools>=18.5 in /usr/local/lib/python3.6/dist-packages (from ipython->ipython-autotime) (50.3.2)\n",
            "Requirement already satisfied: traitlets>=4.2 in /usr/local/lib/python3.6/dist-packages (from ipython->ipython-autotime) (4.3.3)\n",
            "Requirement already satisfied: prompt-toolkit<2.0.0,>=1.0.4 in /usr/local/lib/python3.6/dist-packages (from ipython->ipython-autotime) (1.0.18)\n",
            "Requirement already satisfied: pygments in /usr/local/lib/python3.6/dist-packages (from ipython->ipython-autotime) (2.6.1)\n",
            "Requirement already satisfied: pickleshare in /usr/local/lib/python3.6/dist-packages (from ipython->ipython-autotime) (0.7.5)\n",
            "Requirement already satisfied: pexpect; sys_platform != \"win32\" in /usr/local/lib/python3.6/dist-packages (from ipython->ipython-autotime) (4.8.0)\n",
            "Requirement already satisfied: decorator in /usr/local/lib/python3.6/dist-packages (from ipython->ipython-autotime) (4.4.2)\n",
            "Requirement already satisfied: simplegeneric>0.8 in /usr/local/lib/python3.6/dist-packages (from ipython->ipython-autotime) (0.8.1)\n",
            "Requirement already satisfied: six in /usr/local/lib/python3.6/dist-packages (from traitlets>=4.2->ipython->ipython-autotime) (1.15.0)\n",
            "Requirement already satisfied: ipython-genutils in /usr/local/lib/python3.6/dist-packages (from traitlets>=4.2->ipython->ipython-autotime) (0.2.0)\n",
            "Requirement already satisfied: wcwidth in /usr/local/lib/python3.6/dist-packages (from prompt-toolkit<2.0.0,>=1.0.4->ipython->ipython-autotime) (0.2.5)\n",
            "Requirement already satisfied: ptyprocess>=0.5 in /usr/local/lib/python3.6/dist-packages (from pexpect; sys_platform != \"win32\"->ipython->ipython-autotime) (0.6.0)\n",
            "The autotime extension is already loaded. To reload it, use:\n",
            "  %reload_ext autotime\n",
            "time: 2.78 s\n"
          ],
          "name": "stdout"
        }
      ]
    },
    {
      "cell_type": "code",
      "metadata": {
        "colab": {
          "base_uri": "https://localhost:8080/"
        },
        "id": "2d5ZIxySVGVB",
        "outputId": "213789b1-5d29-444e-a5e1-1985385c1f53"
      },
      "source": [
        "df = pd.read_csv(\"data.csv\", sep = \"\\t\")\n",
        "#!pwd\n",
        "df_train = pd.read_csv(\"train.csv\")\n",
        "df_test = pd.read_csv(\"test.csv\")"
      ],
      "execution_count": null,
      "outputs": [
        {
          "output_type": "stream",
          "text": [
            "/usr/local/lib/python3.6/dist-packages/IPython/core/interactiveshell.py:2718: DtypeWarning: Columns (1) have mixed types.Specify dtype option on import or set low_memory=False.\n",
            "  interactivity=interactivity, compiler=compiler, result=result)\n"
          ],
          "name": "stderr"
        },
        {
          "output_type": "stream",
          "text": [
            "time: 9.78 s\n"
          ],
          "name": "stdout"
        }
      ]
    },
    {
      "cell_type": "code",
      "metadata": {
        "colab": {
          "base_uri": "https://localhost:8080/"
        },
        "id": "KOojgb3uw6pd",
        "outputId": "e95b6d30-a451-4ba3-b7b7-90911a251c13"
      },
      "source": [
        "df_train['column'] = df_train['title'] + df_train['abstract']\n",
        "df_test['column'] = df_test['title'] + df_test['abstract']"
      ],
      "execution_count": null,
      "outputs": [
        {
          "output_type": "stream",
          "text": [
            "time: 200 ms\n"
          ],
          "name": "stdout"
        }
      ]
    },
    {
      "cell_type": "markdown",
      "metadata": {
        "id": "UYX3VUZs63n0"
      },
      "source": [
        "Exploratory Data Analysis"
      ]
    },
    {
      "cell_type": "code",
      "metadata": {
        "colab": {
          "base_uri": "https://localhost:8080/",
          "height": 337
        },
        "id": "bK3Z2W2W7DUD",
        "outputId": "a0ba891a-e791-4eff-a2f6-71511ef63a52"
      },
      "source": [
        "# Number of different categories\n",
        "df['general_category'].value_counts()[:17].plot.bar()"
      ],
      "execution_count": null,
      "outputs": [
        {
          "output_type": "execute_result",
          "data": {
            "text/plain": [
              "<matplotlib.axes._subplots.AxesSubplot at 0x7f202676a208>"
            ]
          },
          "metadata": {
            "tags": []
          },
          "execution_count": 28
        },
        {
          "output_type": "display_data",
          "data": {
            "image/png": "[encoded data removed]",
            "text/plain": [
              "<Figure size 432x288 with 1 Axes>"
            ]
          },
          "metadata": {
            "tags": [],
            "needs_background": "light"
          }
        },
        {
          "output_type": "stream",
          "text": [
            "time: 339 ms\n"
          ],
          "name": "stdout"
        }
      ]
    },
    {
      "cell_type": "markdown",
      "metadata": {
        "id": "wlJk6O8YAutV"
      },
      "source": [
        "Data Preprocessing"
      ]
    },
    {
      "cell_type": "code",
      "metadata": {
        "colab": {
          "base_uri": "https://localhost:8080/"
        },
        "id": "RpsW0khWAyKb",
        "outputId": "9c2fb732-3f59-48ec-a4c0-c934eb00f233"
      },
      "source": [
        "def data_cleaning(review):\n",
        "  review = re.sub('[^a-zA-Z]', ' ', review) # replace special character with space\n",
        "  review = str(review).lower() # change all character to lower case\n",
        "  review = word_tokenize(review) # word tokenization\n",
        "  review = [word for word in review if len(word) > 2] # only keep word that had length longer than 2\n",
        "  review = ' '.join(review) # join the list of strings\n",
        "\n",
        "  return review"
      ],
      "execution_count": null,
      "outputs": [
        {
          "output_type": "stream",
          "text": [
            "time: 5.19 ms\n"
          ],
          "name": "stdout"
        }
      ]
    },
    {
      "cell_type": "code",
      "metadata": {
        "colab": {
          "base_uri": "https://localhost:8080/"
        },
        "id": "y-DEO4HXBlyN",
        "outputId": "943582d9-680d-4130-a338-03870c03fdc9"
      },
      "source": [
        "import re\n",
        "\n",
        "df_train['clean_abstract'] = df_train['column'].apply(data_cleaning)\n",
        "df_test['clean_abstract'] = df_test['column'].apply(data_cleaning)"
      ],
      "execution_count": null,
      "outputs": [
        {
          "output_type": "stream",
          "text": [
            "time: 3min 21s\n"
          ],
          "name": "stdout"
        }
      ]
    },
    {
      "cell_type": "code",
      "metadata": {
        "colab": {
          "base_uri": "https://localhost:8080/"
        },
        "id": "Z9X9cq5B9OWv",
        "outputId": "92383aae-d49d-4ee7-a0f0-e8b45a4f8c19"
      },
      "source": [
        "!pip install transformers\n",
        "import torch\n",
        "from transformers import *"
      ],
      "execution_count": null,
      "outputs": [
        {
          "output_type": "stream",
          "text": [
            "Requirement already satisfied: transformers in /usr/local/lib/python3.6/dist-packages (4.0.0)\n",
            "Requirement already satisfied: regex!=2019.12.17 in /usr/local/lib/python3.6/dist-packages (from transformers) (2019.12.20)\n",
            "Requirement already satisfied: filelock in /usr/local/lib/python3.6/dist-packages (from transformers) (3.0.12)\n",
            "Requirement already satisfied: tokenizers==0.9.4 in /usr/local/lib/python3.6/dist-packages (from transformers) (0.9.4)\n",
            "Requirement already satisfied: sacremoses in /usr/local/lib/python3.6/dist-packages (from transformers) (0.0.43)\n",
            "Requirement already satisfied: dataclasses; python_version < \"3.7\" in /usr/local/lib/python3.6/dist-packages (from transformers) (0.8)\n",
            "Requirement already satisfied: numpy in /usr/local/lib/python3.6/dist-packages (from transformers) (1.18.5)\n",
            "Requirement already satisfied: packaging in /usr/local/lib/python3.6/dist-packages (from transformers) (20.4)\n",
            "Requirement already satisfied: requests in /usr/local/lib/python3.6/dist-packages (from transformers) (2.23.0)\n",
            "Requirement already satisfied: tqdm>=4.27 in /usr/local/lib/python3.6/dist-packages (from transformers) (4.41.1)\n",
            "Requirement already satisfied: click in /usr/local/lib/python3.6/dist-packages (from sacremoses->transformers) (7.1.2)\n",
            "Requirement already satisfied: joblib in /usr/local/lib/python3.6/dist-packages (from sacremoses->transformers) (0.17.0)\n",
            "Requirement already satisfied: six in /usr/local/lib/python3.6/dist-packages (from sacremoses->transformers) (1.15.0)\n",
            "Requirement already satisfied: pyparsing>=2.0.2 in /usr/local/lib/python3.6/dist-packages (from packaging->transformers) (2.4.7)\n",
            "Requirement already satisfied: urllib3!=1.25.0,!=1.25.1,<1.26,>=1.21.1 in /usr/local/lib/python3.6/dist-packages (from requests->transformers) (1.24.3)\n",
            "Requirement already satisfied: chardet<4,>=3.0.2 in /usr/local/lib/python3.6/dist-packages (from requests->transformers) (3.0.4)\n",
            "Requirement already satisfied: idna<3,>=2.5 in /usr/local/lib/python3.6/dist-packages (from requests->transformers) (2.10)\n",
            "Requirement already satisfied: certifi>=2017.4.17 in /usr/local/lib/python3.6/dist-packages (from requests->transformers) (2020.11.8)\n",
            "time: 2.7 s\n"
          ],
          "name": "stdout"
        }
      ]
    },
    {
      "cell_type": "code",
      "metadata": {
        "colab": {
          "base_uri": "https://localhost:8080/"
        },
        "id": "Z23d4CMGEJ75",
        "outputId": "bea86baf-43e7-4c0c-f7f3-1337d142bcb5"
      },
      "source": [
        "# use sciBert pre-trained model\n",
        "tokenizer = AutoTokenizer.from_pretrained('allenai/scibert_scivocab_uncased')\n",
        "model = AutoModel.from_pretrained('allenai/scibert_scivocab_uncased', output_hidden_states=True)"
      ],
      "execution_count": null,
      "outputs": [
        {
          "output_type": "stream",
          "text": [
            "time: 3.63 s\n"
          ],
          "name": "stdout"
        }
      ]
    },
    {
      "cell_type": "code",
      "metadata": {
        "colab": {
          "base_uri": "https://localhost:8080/"
        },
        "id": "KfQQHzdBfDwc",
        "outputId": "fe3f8da9-7664-48a2-beaa-b3531bf9cde1"
      },
      "source": [
        "# Set training and testing numbers\n",
        "train_sampleSize = 1000\n",
        "test_sampleSize = 200\n",
        "\n",
        "# Set X: abstract\n",
        "train_clean = df_train['clean_abstract'].head(train_sampleSize)\n",
        "test_clean = df_test['clean_abstract'].head(test_sampleSize)\n",
        "\n",
        "train = train_clean.to_list()\n",
        "test = test_clean.to_list()\n",
        "\n",
        "# Set y: categories\n",
        "y_train = df_train[\"general_category\"].head(train_sampleSize).values\n",
        "y_test = df_test[\"general_category\"].head(test_sampleSize).values\n",
        "\n",
        "#y_train = df_train[\"categories\"].head(train_sampleSize).values\n",
        "#y_test = df_test[\"categories\"].head(test_sampleSize).values"
      ],
      "execution_count": null,
      "outputs": [
        {
          "output_type": "stream",
          "text": [
            "time: 339 ms\n"
          ],
          "name": "stdout"
        }
      ]
    },
    {
      "cell_type": "markdown",
      "metadata": {
        "id": "z2IRaYznE44K"
      },
      "source": [
        "RUN BEFORE HERE"
      ]
    },
    {
      "cell_type": "code",
      "metadata": {
        "id": "-PsiiJIV0hdf",
        "colab": {
          "base_uri": "https://localhost:8080/"
        },
        "outputId": "22d44170-50f1-4319-f790-26de66219eeb"
      },
      "source": [
        "X_train = []\n",
        "for i in range(len(train)):\n",
        "  ids = tokenizer.encode(train[i])\n",
        "\n",
        "  # Convert the list of IDs to a tensor of IDs \n",
        "  ids = torch.LongTensor(ids)\n",
        "\n",
        "  # unsqueeze IDs to get batch size of 1 as added dimension\n",
        "  ids = ids.unsqueeze(0)\n",
        "\n",
        "  with torch.no_grad():\n",
        "      out = model(input_ids=ids)\n",
        "\n",
        "  # the output is a tuple\n",
        "  # the tuple contains three elements as explained above)\n",
        "  # we only want the hidden_states\n",
        "  hidden_states = out[2]\n",
        "\n",
        "  sentence_embedding = torch.mean(hidden_states[-1], dim=1).squeeze()\n",
        "\n",
        "  # convert to numpy\n",
        "  np_tensor_temp = sentence_embedding.numpy()\n",
        "  X_train.append(np_tensor_temp)"
      ],
      "execution_count": null,
      "outputs": [
        {
          "output_type": "stream",
          "text": [
            "time: 8min 4s\n"
          ],
          "name": "stdout"
        }
      ]
    },
    {
      "cell_type": "code",
      "metadata": {
        "id": "7Ftbc-EX5YXF",
        "colab": {
          "base_uri": "https://localhost:8080/"
        },
        "outputId": "70ea108a-168c-450e-8730-33d61521412d"
      },
      "source": [
        "X_test = []\n",
        "for i in range(len(test)):\n",
        "  ids = tokenizer.encode(test[i])\n",
        "\n",
        "  # Convert the list of IDs to a tensor of IDs \n",
        "  ids = torch.LongTensor(ids)\n",
        "\n",
        "  # unsqueeze IDs to get batch size of 1 as added dimension\n",
        "  ids = ids.unsqueeze(0)\n",
        "\n",
        "  with torch.no_grad():\n",
        "      out = model(input_ids=ids)\n",
        "\n",
        "  # the output is a tuple\n",
        "  # the tuple contains three elements as explained above)\n",
        "  # we only want the hidden_states\n",
        "  hidden_states = out[2]\n",
        "\n",
        "  sentence_embedding = torch.mean(hidden_states[-1], dim=1).squeeze()\n",
        "\n",
        "  # convert to numpy\n",
        "  np_tensor_temp = sentence_embedding.numpy()\n",
        "  X_test.append(np_tensor_temp)"
      ],
      "execution_count": null,
      "outputs": [
        {
          "output_type": "stream",
          "text": [
            "time: 1min 33s\n"
          ],
          "name": "stdout"
        }
      ]
    },
    {
      "cell_type": "code",
      "metadata": {
        "id": "Ji3qdDgch_CT",
        "colab": {
          "base_uri": "https://localhost:8080/"
        },
        "outputId": "23e35273-fd5d-4514-ccfa-d9ade351f2a3"
      },
      "source": [
        "\n",
        "from numpy import savetxt\n",
        "\n",
        "savetxt('numpy_X_train(1000).csv', X_train, delimiter=',')\n",
        "savetxt('numpy_X_test(200).csv', X_test, delimiter=',')\n"
      ],
      "execution_count": null,
      "outputs": [
        {
          "output_type": "stream",
          "text": [
            "time: 1.05 s\n"
          ],
          "name": "stdout"
        }
      ]
    },
    {
      "cell_type": "code",
      "metadata": {
        "colab": {
          "base_uri": "https://localhost:8080/",
          "height": 52
        },
        "id": "cnVWhzrsbmA6",
        "outputId": "acc894fd-a0bb-4d70-b187-43384c269832"
      },
      "source": [
        "'''\n",
        "import csv\n",
        "\n",
        "def read_csv(filename):\n",
        "    with open(filename, newline='') as f_input:\n",
        "        return [list(map(float, row)) for row in csv.reader(f_input)]\n",
        "\n",
        "X_train = read_csv('numpy_X_train(10000).csv')\n",
        "X_test = read_csv('numpy_X_test(2500).csv')\n",
        "'''"
      ],
      "execution_count": null,
      "outputs": [
        {
          "output_type": "execute_result",
          "data": {
            "application/vnd.google.colaboratory.intrinsic+json": {
              "type": "string"
            },
            "text/plain": [
              "\"\\nimport csv\\n\\ndef read_csv(filename):\\n    with open(filename, newline='') as f_input:\\n        return [list(map(float, row)) for row in csv.reader(f_input)]\\n\\nX_train = read_csv('numpy_X_train(10000).csv')\\nX_test = read_csv('numpy_X_test(2500).csv')\\n\""
            ]
          },
          "metadata": {
            "tags": []
          },
          "execution_count": 37
        },
        {
          "output_type": "stream",
          "text": [
            "time: 6.37 ms\n"
          ],
          "name": "stdout"
        }
      ]
    },
    {
      "cell_type": "code",
      "metadata": {
        "colab": {
          "base_uri": "https://localhost:8080/"
        },
        "id": "5ZR6igV04Pe_",
        "outputId": "88df2743-c794-45c6-d471-277760c619eb"
      },
      "source": [
        "import sklearn\n",
        "from sklearn.svm import SVC\n",
        "from sklearn.metrics import (accuracy_score, classification_report, confusion_matrix, f1_score)\n",
        "                             \n",
        "print('SVC model fitting......')\n",
        "clf_SVC = SVC()\n",
        "clf_SVC.fit(X_train, y_train)\n",
        "print(\"SVC: \" + str(accuracy_score(y_test, clf_SVC.predict(X_test))))"
      ],
      "execution_count": null,
      "outputs": [
        {
          "output_type": "stream",
          "text": [
            "SVC model fitting......\n",
            "SVC: 0.75\n",
            "time: 1.36 s\n"
          ],
          "name": "stdout"
        }
      ]
    },
    {
      "cell_type": "code",
      "metadata": {
        "colab": {
          "base_uri": "https://localhost:8080/"
        },
        "id": "pyouHZC_DXuY",
        "outputId": "146e5191-3b1b-4780-978f-316e43d2d1b0"
      },
      "source": [
        "print('SVC Classification Report:\\n\\n',classification_report(y_test, clf_SVC.predict(X_test)))"
      ],
      "execution_count": null,
      "outputs": [
        {
          "output_type": "stream",
          "text": [
            "SVC Classification Report:\n",
            "\n",
            "               precision    recall  f1-score   support\n",
            "\n",
            "    astro-ph       0.87      0.97      0.92        40\n",
            "    cond-mat       0.56      1.00      0.71        25\n",
            "          cs       1.00      0.60      0.75         5\n",
            "       gr-qc       0.50      0.12      0.20         8\n",
            "      hep-ex       0.00      0.00      0.00         2\n",
            "     hep-lat       0.00      0.00      0.00         4\n",
            "      hep-ph       0.75      0.86      0.80        28\n",
            "      hep-th       0.70      0.88      0.78        24\n",
            "        math       0.83      0.96      0.89        25\n",
            "        nlin       0.00      0.00      0.00         3\n",
            "     nucl-ex       0.00      0.00      0.00         4\n",
            "     nucl-th       1.00      0.20      0.33         5\n",
            "     physics       0.50      0.10      0.17        10\n",
            "       q-bio       0.00      0.00      0.00         2\n",
            "    quant-ph       1.00      0.73      0.85        15\n",
            "\n",
            "    accuracy                           0.75       200\n",
            "   macro avg       0.51      0.43      0.43       200\n",
            "weighted avg       0.71      0.75      0.70       200\n",
            "\n",
            "time: 199 ms\n"
          ],
          "name": "stdout"
        },
        {
          "output_type": "stream",
          "text": [
            "/usr/local/lib/python3.6/dist-packages/sklearn/metrics/_classification.py:1272: UndefinedMetricWarning: Precision and F-score are ill-defined and being set to 0.0 in labels with no predicted samples. Use `zero_division` parameter to control this behavior.\n",
            "  _warn_prf(average, modifier, msg_start, len(result))\n"
          ],
          "name": "stderr"
        }
      ]
    },
    {
      "cell_type": "code",
      "metadata": {
        "colab": {
          "base_uri": "https://localhost:8080/"
        },
        "id": "nhJJnuhGEA0o",
        "outputId": "67314479-2f7b-4c72-e74f-086e9a285906"
      },
      "source": [
        "print('SVC Confusion Matrix:\\n\\n',confusion_matrix(y_test, clf_SVC.predict(X_test)))"
      ],
      "execution_count": null,
      "outputs": [
        {
          "output_type": "stream",
          "text": [
            "SVC Confusion Matrix:\n",
            "\n",
            " [[39  0  0  1  0  0  0  0  0  0  0  0  0  0  0]\n",
            " [ 0 25  0  0  0  0  0  0  0  0  0  0  0  0  0]\n",
            " [ 0  0  3  0  0  0  0  0  2  0  0  0  0  0  0]\n",
            " [ 1  0  0  1  0  0  0  4  2  0  0  0  0  0  0]\n",
            " [ 0  0  0  0  0  0  2  0  0  0  0  0  0  0  0]\n",
            " [ 0  1  0  0  0  0  2  1  0  0  0  0  0  0  0]\n",
            " [ 1  1  0  0  0  0 24  2  0  0  0  0  0  0  0]\n",
            " [ 0  2  0  0  0  0  0 21  1  0  0  0  0  0  0]\n",
            " [ 0  1  0  0  0  0  0  0 24  0  0  0  0  0  0]\n",
            " [ 0  3  0  0  0  0  0  0  0  0  0  0  0  0  0]\n",
            " [ 1  0  0  0  0  0  2  0  0  0  0  0  1  0  0]\n",
            " [ 0  2  0  0  0  0  2  0  0  0  0  1  0  0  0]\n",
            " [ 3  5  0  0  0  0  0  1  0  0  0  0  1  0  0]\n",
            " [ 0  2  0  0  0  0  0  0  0  0  0  0  0  0  0]\n",
            " [ 0  3  0  0  0  0  0  1  0  0  0  0  0  0 11]]\n",
            "time: 209 ms\n"
          ],
          "name": "stdout"
        }
      ]
    },
    {
      "cell_type": "code",
      "metadata": {
        "colab": {
          "base_uri": "https://localhost:8080/"
        },
        "id": "6neVvPMsEYIT",
        "outputId": "1ede7ba8-8c2c-4f8b-e771-22d1a729b1f9"
      },
      "source": [
        "from sklearn.metrics import hamming_loss\n",
        "\n",
        "print('SVC Hamming Loss: ', hamming_loss(y_test, clf_SVC.predict(X_test)))"
      ],
      "execution_count": null,
      "outputs": [
        {
          "output_type": "stream",
          "text": [
            "SVC Hamming Loss:  0.25\n",
            "time: 190 ms\n"
          ],
          "name": "stdout"
        }
      ]
    },
    {
      "cell_type": "code",
      "metadata": {
        "colab": {
          "base_uri": "https://localhost:8080/"
        },
        "id": "aQPUQtEHsAmM",
        "outputId": "74b54af1-2437-4d57-9695-3ce51c59a220"
      },
      "source": [
        "from sklearn.neighbors import KNeighborsClassifier\n",
        "\n",
        "print('KNN model fitting......')\n",
        "clf_KNN = KNeighborsClassifier(n_neighbors=5)\n",
        "clf_KNN.fit(X_train, y_train)\n",
        "print(\"KNN: \" + str(accuracy_score(y_test, clf_KNN.predict(X_test))))"
      ],
      "execution_count": null,
      "outputs": [
        {
          "output_type": "stream",
          "text": [
            "KNN model fitting......\n",
            "KNN: 0.705\n",
            "time: 552 ms\n"
          ],
          "name": "stdout"
        }
      ]
    },
    {
      "cell_type": "code",
      "metadata": {
        "colab": {
          "base_uri": "https://localhost:8080/"
        },
        "id": "JYILkbPWFfB1",
        "outputId": "bfc5af56-c308-4419-9cd0-00157e8d2100"
      },
      "source": [
        "print('KNN Classification Report:\\n\\n',classification_report(y_test, clf_KNN.predict(X_test)))\n",
        "print('\\n\\nKNN Confusion Matrix:\\n\\n',confusion_matrix(y_test, clf_KNN.predict(X_test)))\n",
        "print('\\n\\nKNN Hamming Loss: ', hamming_loss(y_test, clf_KNN.predict(X_test)))"
      ],
      "execution_count": null,
      "outputs": [
        {
          "output_type": "stream",
          "text": [
            "/usr/local/lib/python3.6/dist-packages/sklearn/metrics/_classification.py:1272: UndefinedMetricWarning: Precision and F-score are ill-defined and being set to 0.0 in labels with no predicted samples. Use `zero_division` parameter to control this behavior.\n",
            "  _warn_prf(average, modifier, msg_start, len(result))\n"
          ],
          "name": "stderr"
        },
        {
          "output_type": "stream",
          "text": [
            "KNN Classification Report:\n",
            "\n",
            "               precision    recall  f1-score   support\n",
            "\n",
            "    astro-ph       0.71      0.97      0.82        40\n",
            "    cond-mat       0.53      0.96      0.69        25\n",
            "          cs       1.00      0.60      0.75         5\n",
            "       gr-qc       0.67      0.25      0.36         8\n",
            "      hep-ex       0.00      0.00      0.00         2\n",
            "     hep-lat       0.25      0.25      0.25         4\n",
            "      hep-ph       0.76      0.79      0.77        28\n",
            "      hep-th       0.73      0.79      0.76        24\n",
            "        math       0.92      0.92      0.92        25\n",
            "        nlin       0.00      0.00      0.00         3\n",
            "     nucl-ex       0.00      0.00      0.00         4\n",
            "     nucl-th       0.00      0.00      0.00         5\n",
            "     physics       0.50      0.10      0.17        10\n",
            "       q-bio       0.00      0.00      0.00         2\n",
            "    quant-ph       0.88      0.47      0.61        15\n",
            "\n",
            "    accuracy                           0.70       200\n",
            "   macro avg       0.46      0.41      0.41       200\n",
            "weighted avg       0.66      0.70      0.66       200\n",
            "\n",
            "\n",
            "\n",
            "KNN Confusion Matrix:\n",
            "\n",
            " [[39  1  0  0  0  0  0  0  0  0  0  0  0  0  0]\n",
            " [ 1 24  0  0  0  0  0  0  0  0  0  0  0  0  0]\n",
            " [ 1  0  3  0  0  0  0  0  0  0  0  0  0  0  1]\n",
            " [ 1  0  0  2  0  0  0  4  1  0  0  0  0  0  0]\n",
            " [ 0  0  0  0  0  0  2  0  0  0  0  0  0  0  0]\n",
            " [ 0  1  0  0  0  1  1  1  0  0  0  0  0  0  0]\n",
            " [ 1  2  0  0  0  3 22  0  0  0  0  0  0  0  0]\n",
            " [ 2  2  0  0  0  0  0 19  1  0  0  0  0  0  0]\n",
            " [ 1  0  0  1  0  0  0  0 23  0  0  0  0  0  0]\n",
            " [ 0  3  0  0  0  0  0  0  0  0  0  0  0  0  0]\n",
            " [ 2  0  0  0  0  0  1  0  0  0  0  0  1  0  0]\n",
            " [ 0  2  0  0  0  0  3  0  0  0  0  0  0  0  0]\n",
            " [ 4  4  0  0  0  0  0  1  0  0  0  0  1  0  0]\n",
            " [ 1  1  0  0  0  0  0  0  0  0  0  0  0  0  0]\n",
            " [ 2  5  0  0  0  0  0  1  0  0  0  0  0  0  7]]\n",
            "\n",
            "\n",
            "KNN Hamming Loss:  0.295\n",
            "time: 1.17 s\n"
          ],
          "name": "stdout"
        }
      ]
    },
    {
      "cell_type": "code",
      "metadata": {
        "colab": {
          "base_uri": "https://localhost:8080/"
        },
        "id": "EM1GQxw1tJaB",
        "outputId": "08b10d90-987b-4387-b056-7a6ea9297990"
      },
      "source": [
        "from sklearn.linear_model import LogisticRegression\n",
        "\n",
        "print('Logistic Regression model fitting......')\n",
        "clf_LR = LogisticRegression(max_iter=5000)\n",
        "clf_LR.fit(X_train, y_train)\n",
        "print(\"Logistic Regression: \" + str(accuracy_score(y_test, clf_LR.predict(X_test))))"
      ],
      "execution_count": null,
      "outputs": [
        {
          "output_type": "stream",
          "text": [
            "Logistic Regression model fitting......\n",
            "Logistic Regression: 0.745\n",
            "time: 5 s\n"
          ],
          "name": "stdout"
        }
      ]
    },
    {
      "cell_type": "code",
      "metadata": {
        "colab": {
          "base_uri": "https://localhost:8080/"
        },
        "id": "PCF8rGjcGEGN",
        "outputId": "56ecc460-fd52-4c23-bf5a-c675e4662ed0"
      },
      "source": [
        "print('Logistic Regression Classification Report:\\n\\n',classification_report(y_test, clf_LR.predict(X_test)))\n",
        "print('\\nLogistic Regression Confusion Matrix:\\n\\n',confusion_matrix(y_test, clf_LR.predict(X_test)))\n",
        "print('\\nLogistic Regression Hamming Loss: ', hamming_loss(y_test, clf_LR.predict(X_test)))"
      ],
      "execution_count": null,
      "outputs": [
        {
          "output_type": "stream",
          "text": [
            "Logistic Regression Classification Report:\n",
            "\n",
            "               precision    recall  f1-score   support\n",
            "\n",
            "    astro-ph       0.87      0.97      0.92        40\n",
            "    cond-mat       0.59      0.88      0.71        25\n",
            "          cs       1.00      1.00      1.00         5\n",
            "       gr-qc       0.50      0.25      0.33         8\n",
            "      hep-ex       0.67      1.00      0.80         2\n",
            "     hep-lat       0.50      0.25      0.33         4\n",
            "      hep-ph       0.76      0.79      0.77        28\n",
            "      hep-th       0.67      0.67      0.67        24\n",
            "        math       0.88      0.92      0.90        25\n",
            "        nlin       0.50      0.33      0.40         3\n",
            "     nucl-ex       0.00      0.00      0.00         4\n",
            "     nucl-th       0.67      0.40      0.50         5\n",
            "     physics       0.60      0.30      0.40        10\n",
            "       q-bio       0.00      0.00      0.00         2\n",
            "    quant-ph       0.73      0.73      0.73        15\n",
            "\n",
            "    accuracy                           0.74       200\n",
            "   macro avg       0.60      0.57      0.56       200\n",
            "weighted avg       0.72      0.74      0.72       200\n",
            "\n",
            "\n",
            "Logistic Regression Confusion Matrix:\n",
            "\n",
            " [[39  0  0  1  0  0  0  0  0  0  0  0  0  0  0]\n",
            " [ 0 22  0  0  0  0  0  0  0  1  0  0  0  0  2]\n",
            " [ 0  0  5  0  0  0  0  0  0  0  0  0  0  0  0]\n",
            " [ 1  0  0  2  0  0  0  2  2  0  0  0  0  0  1]\n",
            " [ 0  0  0  0  2  0  0  0  0  0  0  0  0  0  0]\n",
            " [ 0  1  0  0  0  1  1  1  0  0  0  0  0  0  0]\n",
            " [ 1  1  0  0  0  1 22  2  0  0  0  1  0  0  0]\n",
            " [ 0  3  0  0  0  0  3 16  1  0  0  0  1  0  0]\n",
            " [ 0  0  0  1  0  0  0  0 23  0  0  0  0  0  1]\n",
            " [ 0  1  0  0  0  0  0  1  0  1  0  0  0  0  0]\n",
            " [ 1  0  0  0  1  0  1  0  0  0  0  0  1  0  0]\n",
            " [ 0  1  0  0  0  0  2  0  0  0  0  2  0  0  0]\n",
            " [ 3  3  0  0  0  0  0  1  0  0  0  0  3  0  0]\n",
            " [ 0  2  0  0  0  0  0  0  0  0  0  0  0  0  0]\n",
            " [ 0  3  0  0  0  0  0  1  0  0  0  0  0  0 11]]\n",
            "\n",
            "Logistic Regression Hamming Loss:  0.255\n",
            "time: 29.7 ms\n"
          ],
          "name": "stdout"
        },
        {
          "output_type": "stream",
          "text": [
            "/usr/local/lib/python3.6/dist-packages/sklearn/metrics/_classification.py:1272: UndefinedMetricWarning: Precision and F-score are ill-defined and being set to 0.0 in labels with no predicted samples. Use `zero_division` parameter to control this behavior.\n",
            "  _warn_prf(average, modifier, msg_start, len(result))\n"
          ],
          "name": "stderr"
        }
      ]
    },
    {
      "cell_type": "markdown",
      "metadata": {
        "id": "1cMi8ctGE9RM"
      },
      "source": [
        "TSNE PLOT"
      ]
    },
    {
      "cell_type": "code",
      "metadata": {
        "id": "L6bz_9GVE_LO"
      },
      "source": [
        "from sklearn.feature_extraction.text import TfidfVectorizer, CountVectorizer\n",
        "from sklearn.decomposition import LatentDirichletAllocation,TruncatedSVD\n",
        "from sklearn.cluster import KMeans\n",
        "from sklearn.preprocessing import MinMaxScaler\n",
        "from sklearn.manifold import TSNE\n",
        "\n",
        "from nltk.stem.snowball import SnowballStemmer\n",
        "from nltk.tokenize import RegexpTokenizer"
      ],
      "execution_count": null,
      "outputs": []
    },
    {
      "cell_type": "code",
      "metadata": {
        "colab": {
          "base_uri": "https://localhost:8080/"
        },
        "id": "Nx1a5mZHFsc8",
        "outputId": "feb995dd-453c-47dc-80ef-00b7114724d5"
      },
      "source": [
        "stemmer = SnowballStemmer(\"english\")\n",
        "tokenizer = RegexpTokenizer(\"[a-z']+\")\n",
        "\n",
        "def tokenize(text):\n",
        "    tokens = tokenizer.tokenize(text)\n",
        "    return [stemmer.stem(t) for t in tokens] \n",
        "\n",
        "def get_tf(data, max_df=1.0, min_df=1, ngram_range=(1,1)):\n",
        "    m = TfidfVectorizer(max_df=max_df, min_df=min_df, stop_words='english', ngram_range=ngram_range, tokenizer=tokenize)\n",
        "    d = m.fit_transform(data)\n",
        "    return m, d\n",
        "\n",
        "tfidf_m, tfidf_d = get_tf(df_train['clean_abstract'].head(10000), max_df=0.90, min_df=10)\n",
        "n_topics = 17\n",
        "\n",
        "def get_kmeans(data, k):\n",
        "    m = KMeans(n_clusters=k).fit(data)\n",
        "    d = m.predict(data)\n",
        "    return m, d     \n",
        "\n",
        "kmean_m, kmean_d = get_kmeans(tfidf_d, n_topics)"
      ],
      "execution_count": null,
      "outputs": [
        {
          "output_type": "stream",
          "text": [
            "/usr/local/lib/python3.6/dist-packages/sklearn/feature_extraction/text.py:385: UserWarning: Your stop_words may be inconsistent with your preprocessing. Tokenizing the stop words generated tokens ['abov', 'afterward', 'alon', 'alreadi', 'alway', 'ani', 'anoth', 'anyon', 'anyth', 'anywher', 'becam', 'becaus', 'becom', 'befor', 'besid', 'cri', 'describ', 'dure', 'els', 'elsewher', 'empti', 'everi', 'everyon', 'everyth', 'everywher', 'fifti', 'forti', 'henc', 'hereaft', 'herebi', 'howev', 'hundr', 'inde', 'mani', 'meanwhil', 'moreov', 'nobodi', 'noon', 'noth', 'nowher', 'onc', 'onli', 'otherwis', 'ourselv', 'perhap', 'pleas', 'sever', 'sinc', 'sincer', 'sixti', 'someon', 'someth', 'sometim', 'somewher', 'themselv', 'thenc', 'thereaft', 'therebi', 'therefor', 'togeth', 'twelv', 'twenti', 'veri', 'whatev', 'whenc', 'whenev', 'wherea', 'whereaft', 'wherebi', 'wherev', 'whi', 'yourselv'] not in stop_words.\n",
            "  'stop_words.' % sorted(inconsistent))\n"
          ],
          "name": "stderr"
        },
        {
          "output_type": "stream",
          "text": [
            "time: 4min 50s\n"
          ],
          "name": "stdout"
        }
      ]
    },
    {
      "cell_type": "code",
      "metadata": {
        "colab": {
          "base_uri": "https://localhost:8080/"
        },
        "id": "gP8DoWQ5G5to",
        "outputId": "88bad79c-b0ed-4cf3-bf2b-2fe175135e88"
      },
      "source": [
        "def show_topics(model, feature_names, n_words):\n",
        "    for topic_idx, topic in enumerate(model.components_):\n",
        "        print(\"Topic #%d:\" % topic_idx)\n",
        "        print(\", \".join([feature_names[i]\n",
        "                        for i in topic.argsort()[:-n_words - 1:-1]]))\n",
        "    print()\n",
        "    \n",
        "def show_cluster_topics(cluster_labels, tf_matrix, feature_names, n_words):\n",
        "    d = pd.DataFrame(tf_matrix.toarray())\n",
        "    d['c'] = cluster_labels\n",
        "    d = d.groupby('c').sum().T\n",
        "    \n",
        "    for col in d:\n",
        "        top_n = d[col].nlargest(n_words).index.tolist()\n",
        "        print(\"Cluster #%d:\" % col)\n",
        "        print(\", \".join([feature_names[i]\n",
        "                for i in top_n]))\n",
        "    print()"
      ],
      "execution_count": null,
      "outputs": [
        {
          "output_type": "stream",
          "text": [
            "time: 12.8 ms\n"
          ],
          "name": "stdout"
        }
      ]
    },
    {
      "cell_type": "code",
      "metadata": {
        "colab": {
          "base_uri": "https://localhost:8080/"
        },
        "id": "_s0cEfHRMQZi",
        "outputId": "bb65d5b8-2813-4380-8fa6-835f981c1368"
      },
      "source": [
        "print(\"Top 15 stemmed words per cluster in Kmeans model\\n\")\n",
        "show_cluster_topics(kmean_d, tfidf_d, tfidf_m.get_feature_names(), 15)"
      ],
      "execution_count": null,
      "outputs": [
        {
          "output_type": "stream",
          "text": [
            "Top 15 stemmed words per cluster in Kmeans model\n",
            "\n",
            "Cluster #0:\n",
            "quark, qcd, heavi, mass, meson, chiral, gluon, baryon, hadron, model, lattic, decay, flavor, nucleon, sum\n",
            "Cluster #1:\n",
            "galaxi, redshift, format, star, mass, gas, luminos, survey, disk, observ, halo, sampl, stellar, metal, evolut\n",
            "Cluster #2:\n",
            "theori, gaug, field, action, space, model, non, symmetri, fermion, coupl, dimens, loop, invari, supersymmetr, dimension\n",
            "Cluster #3:\n",
            "line, radio, emiss, jet, observ, sourc, galaxi, quasar, absorpt, ray, high, region, gas, optic, detect\n",
            "Cluster #4:\n",
            "algebra, group, space, graph, prove, theorem, function, set, manifold, general, paper, finit, number, polynomi, construct\n",
            "Cluster #5:\n",
            "string, brane, theori, field, solut, background, dualiti, gaug, non, supersymmetr, dimension, ad, type, model, supergrav\n",
            "Cluster #6:\n",
            "cluster, galaxi, mass, globular, star, ngc, redshift, observ, model, ray, popul, lens, format, luminos, distribut\n",
            "Cluster #7:\n",
            "neutrino, mass, oscil, mix, solar, lepton, model, experi, theta, tau, steril, symmetri, atmospher, data, matrix\n",
            "Cluster #8:\n",
            "higg, boson, model, mass, supersymmetr, lepton, standard, electroweak, violat, collid, mssm, decay, lhc, susi, gaug\n",
            "Cluster #9:\n",
            "model, use, time, energi, result, effect, structur, method, particl, scale, function, dynam, studi, state, present\n",
            "Cluster #10:\n",
            "quantum, state, entangl, qubit, classic, measur, atom, use, oper, mechan, inform, comput, photon, control, time\n",
            "Cluster #11:\n",
            "hole, black, horizon, mass, accret, solut, graviti, gravit, entropi, binari, theori, quantum, hawk, state, star\n",
            "Cluster #12:\n",
            "star, mass, planet, disk, binari, stellar, abund, dwarf, observ, metal, solar, format, period, accret, evolut\n",
            "Cluster #13:\n",
            "ray, sourc, gamma, burst, observ, emiss, kev, optic, energi, star, grb, pulsar, detect, high, model\n",
            "Cluster #14:\n",
            "decay, meson, collis, gamma, section, product, cross, hadron, energi, nucleon, eta, measur, reaction, bar, model\n",
            "Cluster #15:\n",
            "equat, solut, field, problem, time, method, nonlinear, general, model, wave, space, particl, obtain, dimension, differenti\n",
            "Cluster #16:\n",
            "magnet, spin, field, electron, temperatur, phase, transit, state, superconduct, effect, model, interact, superconductor, order, ferromagnet\n",
            "\n",
            "time: 307 ms\n"
          ],
          "name": "stdout"
        }
      ]
    },
    {
      "cell_type": "code",
      "metadata": {
        "colab": {
          "base_uri": "https://localhost:8080/"
        },
        "id": "26ku5e9-Mb95",
        "outputId": "4caf1944-3991-45bd-ffa9-14f06eb39851"
      },
      "source": [
        "def get_svd(data, components):\n",
        "    svd = TruncatedSVD(n_components=components).fit(data)\n",
        "    o = pd.DataFrame(svd.transform(data), columns=range(0,components))\n",
        "    return svd,o\n",
        "\n",
        "def get_tsne(data, components, perplexity):\n",
        "    tsne = TSNE(n_components=components, perplexity=perplexity, n_iter=1000)\n",
        "    o = pd.DataFrame(tsne.fit_transform(data), columns=range(0,components))\n",
        "    return tsne,o\n",
        "\n",
        "svd_v, svd_m = get_svd(tfidf_d, 50)\n",
        "tnse_v, tsne_m = get_tsne(svd_m, 2, 25)"
      ],
      "execution_count": null,
      "outputs": [
        {
          "output_type": "stream",
          "text": [
            "time: 1min 47s\n"
          ],
          "name": "stdout"
        }
      ]
    },
    {
      "cell_type": "code",
      "metadata": {
        "colab": {
          "base_uri": "https://localhost:8080/",
          "height": 689
        },
        "id": "hAaXCd2RMzAY",
        "outputId": "709aeefb-d7c2-4418-b651-65c705bdcf2c"
      },
      "source": [
        "import numpy as np\n",
        "import matplotlib.pyplot as plt\n",
        "import matplotlib.cm as cm\n",
        "import matplotlib\n",
        "\n",
        "def plot_scatter_2d(x, y, c, sample_size, title):\n",
        "    df = pd.DataFrame({'x': x, 'y': y, 'c': c}).sample(sample_size)\n",
        "    l = len(np.unique(c))\n",
        "    \n",
        "    ax = plt.subplot(111)\n",
        "    colors = cm.rainbow(np.linspace(0, 1, l))\n",
        "                                   \n",
        "    for c in range(0,l):\n",
        "        qq = df[df['c']==c]\n",
        "        ax.scatter(qq['x'], qq['y'],c=colors[c], label=c)\n",
        "    plt.legend(loc='upper left', numpoints=1, ncol=3, fontsize=8, bbox_to_anchor=(0, 0), title='Topic/Cluster')\n",
        "    ax.set_yticklabels([])\n",
        "    ax.set_xticklabels([])\n",
        "    ax.set_title(title)\n",
        "    plt.show()\n",
        "\n",
        "plot_scatter_2d(tsne_m[0], tsne_m[1], kmean_d, 1000, 'KMeans Clustering using TFIDF (t-SNE Plot)')"
      ],
      "execution_count": null,
      "outputs": [
        {
          "output_type": "stream",
          "text": [
            "*c* argument looks like a single numeric RGB or RGBA sequence, which should be avoided as value-mapping will have precedence in case its length matches with *x* & *y*.  Please use the *color* keyword-argument or provide a 2-D array with a single row if you intend to specify the same RGB or RGBA value for all points.\n",
            "*c* argument looks like a single numeric RGB or RGBA sequence, which should be avoided as value-mapping will have precedence in case its length matches with *x* & *y*.  Please use the *color* keyword-argument or provide a 2-D array with a single row if you intend to specify the same RGB or RGBA value for all points.\n",
            "*c* argument looks like a single numeric RGB or RGBA sequence, which should be avoided as value-mapping will have precedence in case its length matches with *x* & *y*.  Please use the *color* keyword-argument or provide a 2-D array with a single row if you intend to specify the same RGB or RGBA value for all points.\n",
            "*c* argument looks like a single numeric RGB or RGBA sequence, which should be avoided as value-mapping will have precedence in case its length matches with *x* & *y*.  Please use the *color* keyword-argument or provide a 2-D array with a single row if you intend to specify the same RGB or RGBA value for all points.\n",
            "*c* argument looks like a single numeric RGB or RGBA sequence, which should be avoided as value-mapping will have precedence in case its length matches with *x* & *y*.  Please use the *color* keyword-argument or provide a 2-D array with a single row if you intend to specify the same RGB or RGBA value for all points.\n",
            "*c* argument looks like a single numeric RGB or RGBA sequence, which should be avoided as value-mapping will have precedence in case its length matches with *x* & *y*.  Please use the *color* keyword-argument or provide a 2-D array with a single row if you intend to specify the same RGB or RGBA value for all points.\n",
            "*c* argument looks like a single numeric RGB or RGBA sequence, which should be avoided as value-mapping will have precedence in case its length matches with *x* & *y*.  Please use the *color* keyword-argument or provide a 2-D array with a single row if you intend to specify the same RGB or RGBA value for all points.\n",
            "*c* argument looks like a single numeric RGB or RGBA sequence, which should be avoided as value-mapping will have precedence in case its length matches with *x* & *y*.  Please use the *color* keyword-argument or provide a 2-D array with a single row if you intend to specify the same RGB or RGBA value for all points.\n",
            "*c* argument looks like a single numeric RGB or RGBA sequence, which should be avoided as value-mapping will have precedence in case its length matches with *x* & *y*.  Please use the *color* keyword-argument or provide a 2-D array with a single row if you intend to specify the same RGB or RGBA value for all points.\n",
            "*c* argument looks like a single numeric RGB or RGBA sequence, which should be avoided as value-mapping will have precedence in case its length matches with *x* & *y*.  Please use the *color* keyword-argument or provide a 2-D array with a single row if you intend to specify the same RGB or RGBA value for all points.\n",
            "*c* argument looks like a single numeric RGB or RGBA sequence, which should be avoided as value-mapping will have precedence in case its length matches with *x* & *y*.  Please use the *color* keyword-argument or provide a 2-D array with a single row if you intend to specify the same RGB or RGBA value for all points.\n",
            "*c* argument looks like a single numeric RGB or RGBA sequence, which should be avoided as value-mapping will have precedence in case its length matches with *x* & *y*.  Please use the *color* keyword-argument or provide a 2-D array with a single row if you intend to specify the same RGB or RGBA value for all points.\n",
            "*c* argument looks like a single numeric RGB or RGBA sequence, which should be avoided as value-mapping will have precedence in case its length matches with *x* & *y*.  Please use the *color* keyword-argument or provide a 2-D array with a single row if you intend to specify the same RGB or RGBA value for all points.\n",
            "*c* argument looks like a single numeric RGB or RGBA sequence, which should be avoided as value-mapping will have precedence in case its length matches with *x* & *y*.  Please use the *color* keyword-argument or provide a 2-D array with a single row if you intend to specify the same RGB or RGBA value for all points.\n",
            "*c* argument looks like a single numeric RGB or RGBA sequence, which should be avoided as value-mapping will have precedence in case its length matches with *x* & *y*.  Please use the *color* keyword-argument or provide a 2-D array with a single row if you intend to specify the same RGB or RGBA value for all points.\n",
            "*c* argument looks like a single numeric RGB or RGBA sequence, which should be avoided as value-mapping will have precedence in case its length matches with *x* & *y*.  Please use the *color* keyword-argument or provide a 2-D array with a single row if you intend to specify the same RGB or RGBA value for all points.\n",
            "*c* argument looks like a single numeric RGB or RGBA sequence, which should be avoided as value-mapping will have precedence in case its length matches with *x* & *y*.  Please use the *color* keyword-argument or provide a 2-D array with a single row if you intend to specify the same RGB or RGBA value for all points.\n"
          ],
          "name": "stderr"
        },
        {
          "output_type": "display_data",
          "data": {
            "image/png": "[encoded data removed]",
            "text/plain": [
              "<Figure size 432x288 with 1 Axes>"
            ]
          },
          "metadata": {
            "tags": [],
            "needs_background": "light"
          }
        },
        {
          "output_type": "stream",
          "text": [
            "time: 424 ms\n"
          ],
          "name": "stdout"
        }
      ]
    },
    {
      "cell_type": "code",
      "metadata": {
        "colab": {
          "base_uri": "https://localhost:8080/"
        },
        "id": "Ap4OMzNPjxxb",
        "outputId": "c86752a8-13af-40bb-cff6-8be58cc07f07"
      },
      "source": [
        "# baseline TFIDF\n",
        "tfidf_V = TfidfVectorizer()\n",
        "X_train_f = tfidf_V.fit_transform(train_clean)\n",
        "X_test_f = tfidf_V.transform(test_clean)"
      ],
      "execution_count": null,
      "outputs": [
        {
          "output_type": "stream",
          "text": [
            "time: 827 ms\n"
          ],
          "name": "stdout"
        }
      ]
    },
    {
      "cell_type": "code",
      "metadata": {
        "colab": {
          "base_uri": "https://localhost:8080/"
        },
        "id": "W9c3eBvrmuUt",
        "outputId": "13b8990c-46bc-499a-94d5-c7a96b4f6f14"
      },
      "source": [
        "import sklearn\n",
        "from sklearn.svm import SVC\n",
        "from sklearn.metrics import (accuracy_score, classification_report, confusion_matrix, f1_score)\n",
        "                             \n",
        "print('SVC model fitting......')\n",
        "clf_SVC = SVC()\n",
        "clf_SVC.fit(X_train_f, y_train)\n",
        "print(\"SVC: \" + str(accuracy_score(y_test, clf_SVC.predict(X_test_f))))\n",
        "\n",
        "print('\\nSVC Classification Report:\\n\\n',classification_report(y_test, clf_SVC.predict(X_test_f)))\n",
        "\n",
        "from sklearn.metrics import hamming_loss\n",
        "\n",
        "print('\\nSVC Hamming Loss: ', hamming_loss(y_test, clf_SVC.predict(X_test_f)))"
      ],
      "execution_count": null,
      "outputs": [
        {
          "output_type": "stream",
          "text": [
            "SVC model fitting......\n",
            "SVC: 0.8096\n"
          ],
          "name": "stdout"
        },
        {
          "output_type": "stream",
          "text": [
            "/usr/local/lib/python3.6/dist-packages/sklearn/metrics/_classification.py:1272: UndefinedMetricWarning: Precision and F-score are ill-defined and being set to 0.0 in labels with no predicted samples. Use `zero_division` parameter to control this behavior.\n",
            "  _warn_prf(average, modifier, msg_start, len(result))\n"
          ],
          "name": "stderr"
        },
        {
          "output_type": "stream",
          "text": [
            "\n",
            "SVC Classification Report:\n",
            "\n",
            "               precision    recall  f1-score   support\n",
            "\n",
            "    astro-ph       0.92      0.97      0.94       633\n",
            "    cond-mat       0.71      0.95      0.81       357\n",
            "          cs       1.00      0.25      0.39        53\n",
            "       gr-qc       0.79      0.48      0.60        99\n",
            "      hep-ex       0.94      0.35      0.51        49\n",
            "     hep-lat       0.96      0.56      0.71        48\n",
            "      hep-ph       0.78      0.89      0.83       318\n",
            "      hep-th       0.80      0.84      0.82       244\n",
            "        math       0.77      0.98      0.86       297\n",
            "        nlin       0.00      0.00      0.00        29\n",
            "     nucl-ex       1.00      0.06      0.12        16\n",
            "     nucl-th       0.83      0.50      0.62        68\n",
            "     physics       0.59      0.20      0.30       108\n",
            "       q-bio       0.00      0.00      0.00         8\n",
            "       q-fin       0.00      0.00      0.00         2\n",
            "    quant-ph       0.84      0.79      0.82       165\n",
            "        stat       0.00      0.00      0.00         6\n",
            "\n",
            "    accuracy                           0.81      2500\n",
            "   macro avg       0.64      0.46      0.49      2500\n",
            "weighted avg       0.80      0.81      0.78      2500\n",
            "\n",
            "\n",
            "SVC Hamming Score:  0.1904\n",
            "time: 2min 59s\n"
          ],
          "name": "stdout"
        }
      ]
    },
    {
      "cell_type": "code",
      "metadata": {
        "colab": {
          "base_uri": "https://localhost:8080/"
        },
        "id": "8rUmVRYDsRoK",
        "outputId": "d94e60e5-3dc8-4c0d-adc0-14e020f6e840"
      },
      "source": [
        "print('SVC Confusion Matrix:\\n\\n',confusion_matrix(y_test, clf_SVC.predict(X_test_f)))"
      ],
      "execution_count": null,
      "outputs": [
        {
          "output_type": "stream",
          "text": [
            "SVC Confusion Matrix:\n",
            "\n",
            " [[613   7   0   4   0   0   4   0   3   0   0   0   2   0   0   0   0]\n",
            " [  3 340   0   0   0   0   1   0   2   0   0   0   3   0   0   8   0]\n",
            " [  5   6  13   0   0   0   0   0  28   0   0   0   0   0   0   1   0]\n",
            " [ 16   3   0  48   0   0   2  17   8   0   0   0   3   0   0   2   0]\n",
            " [  4   0   0   0  17   0  24   1   0   0   0   0   3   0   0   0   0]\n",
            " [  1   6   0   0   0  27   4   4   4   0   0   1   0   0   0   1   0]\n",
            " [  7   3   0   0   0   0 284  15   3   0   0   4   0   0   0   2   0]\n",
            " [  1  10   0   6   0   0  11 205   9   0   0   0   0   0   0   2   0]\n",
            " [  1   4   0   0   0   0   0   1 290   0   0   0   1   0   0   0   0]\n",
            " [  1  18   0   0   0   0   0   3   7   0   0   0   0   0   0   0   0]\n",
            " [  0   4   0   0   0   0   9   0   0   0   1   2   0   0   0   0   0]\n",
            " [  1   9   0   0   0   1  21   2   0   0   0  34   0   0   0   0   0]\n",
            " [ 11  49   0   3   1   0   5   1   8   0   0   0  22   0   0   8   0]\n",
            " [  2   5   0   0   0   0   0   0   1   0   0   0   0   0   0   0   0]\n",
            " [  0   0   0   0   0   0   0   0   2   0   0   0   0   0   0   0   0]\n",
            " [  1  14   0   0   0   0   1   6  10   0   0   0   3   0   0 130   0]\n",
            " [  2   1   0   0   0   0   0   0   3   0   0   0   0   0   0   0   0]]\n",
            "time: 14.3 s\n"
          ],
          "name": "stdout"
        }
      ]
    },
    {
      "cell_type": "code",
      "metadata": {
        "colab": {
          "base_uri": "https://localhost:8080/"
        },
        "id": "XhRXoSlSQnb-",
        "outputId": "2d907778-c111-413b-fc5b-9bf8eb742b14"
      },
      "source": [
        "def topFeature(text, category, n):\n",
        "  ''' Return the top features given a category'''\n",
        "  vectorizer = TfidfVectorizer()\n",
        "  df = text.head(10000)\n",
        "  df = df.loc[df['general_category'] == category]\n",
        "  X = vectorizer.fit_transform(df['clean_abstract'])\n",
        "  return X.toarray().min()"
      ],
      "execution_count": null,
      "outputs": [
        {
          "output_type": "stream",
          "text": [
            "time: 3.44 ms\n"
          ],
          "name": "stdout"
        }
      ]
    },
    {
      "cell_type": "code",
      "metadata": {
        "colab": {
          "base_uri": "https://localhost:8080/"
        },
        "id": "Gvxppkq0T0Ji",
        "outputId": "ccb70525-fe98-4509-a17f-4948e2785eec"
      },
      "source": [
        "topFeature(df_train, 'astro-ph', 20)"
      ],
      "execution_count": null,
      "outputs": [
        {
          "output_type": "execute_result",
          "data": {
            "text/plain": [
              "0.0"
            ]
          },
          "metadata": {
            "tags": []
          },
          "execution_count": 86
        },
        {
          "output_type": "stream",
          "text": [
            "time: 312 ms\n"
          ],
          "name": "stdout"
        }
      ]
    }
  ]
}