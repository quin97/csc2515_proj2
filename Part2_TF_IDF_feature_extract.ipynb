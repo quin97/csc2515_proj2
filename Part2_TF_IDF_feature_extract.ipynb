{
  "nbformat": 4,
  "nbformat_minor": 0,
  "metadata": {
    "colab": {
      "name": "Part2_TF-IDF_feature_extract.ipynb",
      "provenance": [],
      "collapsed_sections": []
    },
    "kernelspec": {
      "name": "python3",
      "display_name": "Python 3"
    }
  },
  "cells": [
    {
      "cell_type": "code",
      "metadata": {
        "colab": {
          "base_uri": "https://localhost:8080/"
        },
        "id": "y6IScru_xPAJ",
        "outputId": "85eb0d9a-a5ec-488d-98b5-2e1de67f6620"
      },
      "source": [
        "from google.colab import drive\n",
        "drive.mount('/content/drive')"
      ],
      "execution_count": 1,
      "outputs": [
        {
          "output_type": "stream",
          "text": [
            "Mounted at /content/drive\n"
          ],
          "name": "stdout"
        }
      ]
    },
    {
      "cell_type": "code",
      "metadata": {
        "colab": {
          "base_uri": "https://localhost:8080/"
        },
        "id": "WccYI47nxqvg",
        "outputId": "0e7010a8-4170-40d9-dd02-f124acebd655"
      },
      "source": [
        "cd /content/drive/MyDrive/csc2515-rating-prediction"
      ],
      "execution_count": 2,
      "outputs": [
        {
          "output_type": "stream",
          "text": [
            "/content/drive/MyDrive/csc2515-rating-prediction\n"
          ],
          "name": "stdout"
        }
      ]
    },
    {
      "cell_type": "code",
      "metadata": {
        "id": "wVkrLWb0A8zG",
        "colab": {
          "base_uri": "https://localhost:8080/"
        },
        "outputId": "05b6a11a-19c6-4c5e-9241-8f060c7b9568"
      },
      "source": [
        "import nltk\n",
        "nltk.download('popular')\n",
        "from nltk.tokenize import word_tokenize\n",
        "from nltk.corpus import stopwords\n",
        "from nltk.stem import WordNetLemmatizer"
      ],
      "execution_count": 3,
      "outputs": [
        {
          "output_type": "stream",
          "text": [
            "[nltk_data] Downloading collection 'popular'\n",
            "[nltk_data]    | \n",
            "[nltk_data]    | Downloading package cmudict to /root/nltk_data...\n",
            "[nltk_data]    |   Unzipping corpora/cmudict.zip.\n",
            "[nltk_data]    | Downloading package gazetteers to /root/nltk_data...\n",
            "[nltk_data]    |   Unzipping corpora/gazetteers.zip.\n",
            "[nltk_data]    | Downloading package genesis to /root/nltk_data...\n",
            "[nltk_data]    |   Unzipping corpora/genesis.zip.\n",
            "[nltk_data]    | Downloading package gutenberg to /root/nltk_data...\n",
            "[nltk_data]    |   Unzipping corpora/gutenberg.zip.\n",
            "[nltk_data]    | Downloading package inaugural to /root/nltk_data...\n",
            "[nltk_data]    |   Unzipping corpora/inaugural.zip.\n",
            "[nltk_data]    | Downloading package movie_reviews to\n",
            "[nltk_data]    |     /root/nltk_data...\n",
            "[nltk_data]    |   Unzipping corpora/movie_reviews.zip.\n",
            "[nltk_data]    | Downloading package names to /root/nltk_data...\n",
            "[nltk_data]    |   Unzipping corpora/names.zip.\n",
            "[nltk_data]    | Downloading package shakespeare to /root/nltk_data...\n",
            "[nltk_data]    |   Unzipping corpora/shakespeare.zip.\n",
            "[nltk_data]    | Downloading package stopwords to /root/nltk_data...\n",
            "[nltk_data]    |   Unzipping corpora/stopwords.zip.\n",
            "[nltk_data]    | Downloading package treebank to /root/nltk_data...\n",
            "[nltk_data]    |   Unzipping corpora/treebank.zip.\n",
            "[nltk_data]    | Downloading package twitter_samples to\n",
            "[nltk_data]    |     /root/nltk_data...\n",
            "[nltk_data]    |   Unzipping corpora/twitter_samples.zip.\n",
            "[nltk_data]    | Downloading package omw to /root/nltk_data...\n",
            "[nltk_data]    |   Unzipping corpora/omw.zip.\n",
            "[nltk_data]    | Downloading package wordnet to /root/nltk_data...\n",
            "[nltk_data]    |   Unzipping corpora/wordnet.zip.\n",
            "[nltk_data]    | Downloading package wordnet_ic to /root/nltk_data...\n",
            "[nltk_data]    |   Unzipping corpora/wordnet_ic.zip.\n",
            "[nltk_data]    | Downloading package words to /root/nltk_data...\n",
            "[nltk_data]    |   Unzipping corpora/words.zip.\n",
            "[nltk_data]    | Downloading package maxent_ne_chunker to\n",
            "[nltk_data]    |     /root/nltk_data...\n",
            "[nltk_data]    |   Unzipping chunkers/maxent_ne_chunker.zip.\n",
            "[nltk_data]    | Downloading package punkt to /root/nltk_data...\n",
            "[nltk_data]    |   Unzipping tokenizers/punkt.zip.\n",
            "[nltk_data]    | Downloading package snowball_data to\n",
            "[nltk_data]    |     /root/nltk_data...\n",
            "[nltk_data]    | Downloading package averaged_perceptron_tagger to\n",
            "[nltk_data]    |     /root/nltk_data...\n",
            "[nltk_data]    |   Unzipping taggers/averaged_perceptron_tagger.zip.\n",
            "[nltk_data]    | \n",
            "[nltk_data]  Done downloading collection popular\n"
          ],
          "name": "stdout"
        }
      ]
    },
    {
      "cell_type": "code",
      "metadata": {
        "id": "DbRzrYNHzwIh"
      },
      "source": [
        "import sklearn\n",
        "import pandas as pd\n",
        "import re\n",
        "import numpy as np"
      ],
      "execution_count": 4,
      "outputs": []
    },
    {
      "cell_type": "code",
      "metadata": {
        "colab": {
          "base_uri": "https://localhost:8080/"
        },
        "id": "RVUeCeYnfrBa",
        "outputId": "565472e5-ec36-4158-f43c-96b60f833499"
      },
      "source": [
        "!pip install ipython-autotime\n",
        "\n",
        "%load_ext autotime"
      ],
      "execution_count": 5,
      "outputs": [
        {
          "output_type": "stream",
          "text": [
            "Collecting ipython-autotime\n",
            "  Downloading https://files.pythonhosted.org/packages/3f/58/a4a65efcce5c81a67b6893ade862736de355a3a718af5533d30c991831ce/ipython_autotime-0.2.0-py2.py3-none-any.whl\n",
            "Requirement already satisfied: ipython in /usr/local/lib/python3.6/dist-packages (from ipython-autotime) (5.5.0)\n",
            "Requirement already satisfied: setuptools>=18.5 in /usr/local/lib/python3.6/dist-packages (from ipython->ipython-autotime) (50.3.2)\n",
            "Requirement already satisfied: pickleshare in /usr/local/lib/python3.6/dist-packages (from ipython->ipython-autotime) (0.7.5)\n",
            "Requirement already satisfied: simplegeneric>0.8 in /usr/local/lib/python3.6/dist-packages (from ipython->ipython-autotime) (0.8.1)\n",
            "Requirement already satisfied: pexpect; sys_platform != \"win32\" in /usr/local/lib/python3.6/dist-packages (from ipython->ipython-autotime) (4.8.0)\n",
            "Requirement already satisfied: decorator in /usr/local/lib/python3.6/dist-packages (from ipython->ipython-autotime) (4.4.2)\n",
            "Requirement already satisfied: traitlets>=4.2 in /usr/local/lib/python3.6/dist-packages (from ipython->ipython-autotime) (4.3.3)\n",
            "Requirement already satisfied: prompt-toolkit<2.0.0,>=1.0.4 in /usr/local/lib/python3.6/dist-packages (from ipython->ipython-autotime) (1.0.18)\n",
            "Requirement already satisfied: pygments in /usr/local/lib/python3.6/dist-packages (from ipython->ipython-autotime) (2.6.1)\n",
            "Requirement already satisfied: ptyprocess>=0.5 in /usr/local/lib/python3.6/dist-packages (from pexpect; sys_platform != \"win32\"->ipython->ipython-autotime) (0.6.0)\n",
            "Requirement already satisfied: ipython-genutils in /usr/local/lib/python3.6/dist-packages (from traitlets>=4.2->ipython->ipython-autotime) (0.2.0)\n",
            "Requirement already satisfied: six in /usr/local/lib/python3.6/dist-packages (from traitlets>=4.2->ipython->ipython-autotime) (1.15.0)\n",
            "Requirement already satisfied: wcwidth in /usr/local/lib/python3.6/dist-packages (from prompt-toolkit<2.0.0,>=1.0.4->ipython->ipython-autotime) (0.2.5)\n",
            "Installing collected packages: ipython-autotime\n",
            "Successfully installed ipython-autotime-0.2.0\n",
            "time: 158 µs\n"
          ],
          "name": "stdout"
        }
      ]
    },
    {
      "cell_type": "code",
      "metadata": {
        "colab": {
          "base_uri": "https://localhost:8080/",
          "height": 615
        },
        "id": "2d5ZIxySVGVB",
        "outputId": "57a0d789-fbe9-4a0e-cc56-82a7c1322af1"
      },
      "source": [
        "# df = pd.read_csv(\"data.csv\", sep = \"\\t\")\n",
        "\n",
        "df_train = pd.read_csv(\"train.csv\")\n",
        "# df_test = pd.read_csv(\"test.csv\")\n",
        "df_train.head()"
      ],
      "execution_count": 6,
      "outputs": [
        {
          "output_type": "execute_result",
          "data": {
            "text/html": [
              "<div>\n",
              "<style scoped>\n",
              "    .dataframe tbody tr th:only-of-type {\n",
              "        vertical-align: middle;\n",
              "    }\n",
              "\n",
              "    .dataframe tbody tr th {\n",
              "        vertical-align: top;\n",
              "    }\n",
              "\n",
              "    .dataframe thead th {\n",
              "        text-align: right;\n",
              "    }\n",
              "</style>\n",
              "<table border=\"1\" class=\"dataframe\">\n",
              "  <thead>\n",
              "    <tr style=\"text-align: right;\">\n",
              "      <th></th>\n",
              "      <th>Unnamed: 0</th>\n",
              "      <th>id</th>\n",
              "      <th>update_date</th>\n",
              "      <th>author</th>\n",
              "      <th>title</th>\n",
              "      <th>abstract</th>\n",
              "      <th>categories</th>\n",
              "      <th>journal</th>\n",
              "      <th>versions</th>\n",
              "      <th>doi</th>\n",
              "      <th>general_category</th>\n",
              "      <th>countWordsAbs</th>\n",
              "      <th>author_clean</th>\n",
              "    </tr>\n",
              "  </thead>\n",
              "  <tbody>\n",
              "    <tr>\n",
              "      <th>0</th>\n",
              "      <td>256809</td>\n",
              "      <td>nlin/0501049</td>\n",
              "      <td>2009-09-29</td>\n",
              "      <td>['hua shu dou']</td>\n",
              "      <td>Energy Gradient Theory of Hydrodynamic Instabi...</td>\n",
              "      <td>A new universal theory for flow instability ...</td>\n",
              "      <td>nlin.CD</td>\n",
              "      <td>NaN</td>\n",
              "      <td>[{'version': 'v1', 'created': 'Fri, 28 Jan 200...</td>\n",
              "      <td>NaN</td>\n",
              "      <td>nlin</td>\n",
              "      <td>241</td>\n",
              "      <td>hua shu dou</td>\n",
              "    </tr>\n",
              "    <tr>\n",
              "      <th>1</th>\n",
              "      <td>45953</td>\n",
              "      <td>810.3364</td>\n",
              "      <td>2009-05-18</td>\n",
              "      <td>['v e  rochev']</td>\n",
              "      <td>Properties of predictive formulation of the Na...</td>\n",
              "      <td>Recently proposed by Battistel et al. \"predi...</td>\n",
              "      <td>hep-th</td>\n",
              "      <td>J.Phys.A42:195403,2009</td>\n",
              "      <td>[{'version': 'v1', 'created': 'Sun, 19 Oct 200...</td>\n",
              "      <td>10.1088/1751-8113/42/19/195403</td>\n",
              "      <td>hep-th</td>\n",
              "      <td>59</td>\n",
              "      <td>v e  rochev</td>\n",
              "    </tr>\n",
              "    <tr>\n",
              "      <th>2</th>\n",
              "      <td>7783</td>\n",
              "      <td>707.137</td>\n",
              "      <td>2008-11-26</td>\n",
              "      <td>['k  s  kim', 'b  g  yu', 'm  k  cheoun', 't  ...</td>\n",
              "      <td>Neutral-current Neutrino-nucleus Scattering in...</td>\n",
              "      <td>The neutral-current neutrino-nucleus scatter...</td>\n",
              "      <td>nucl-th</td>\n",
              "      <td>J.Phys.G34:2643-2654,2007</td>\n",
              "      <td>[{'version': 'v1', 'created': 'Tue, 10 Jul 200...</td>\n",
              "      <td>10.1088/0954-3899/34/12/009</td>\n",
              "      <td>nucl-th</td>\n",
              "      <td>103</td>\n",
              "      <td>k  s  kim,b  g  yu,m  k  cheoun,t  k  choi,m  ...</td>\n",
              "    </tr>\n",
              "    <tr>\n",
              "      <th>3</th>\n",
              "      <td>79035</td>\n",
              "      <td>astro-ph/0203101</td>\n",
              "      <td>2008-11-26</td>\n",
              "      <td>['markus rampp', 'h  thomas janka']</td>\n",
              "      <td>Radiation hydrodynamics with neutrinos: Variab...</td>\n",
              "      <td>Neutrino transport and neutrino interactions...</td>\n",
              "      <td>astro-ph</td>\n",
              "      <td>Astron.Astrophys.396:361,2002</td>\n",
              "      <td>[{'version': 'v1', 'created': 'Thu, 7 Mar 2002...</td>\n",
              "      <td>10.1051/0004-6361:20021398</td>\n",
              "      <td>astro-ph</td>\n",
              "      <td>273</td>\n",
              "      <td>markus rampp,h  thomas janka</td>\n",
              "    </tr>\n",
              "    <tr>\n",
              "      <th>4</th>\n",
              "      <td>253601</td>\n",
              "      <td>math/9809152</td>\n",
              "      <td>2007-05-23</td>\n",
              "      <td>['michael frank']</td>\n",
              "      <td>Normal conditional expectations of finite inde...</td>\n",
              "      <td>Normal conditional expectations E: M --&gt; N i...</td>\n",
              "      <td>math.OA</td>\n",
              "      <td>NaN</td>\n",
              "      <td>[{'version': 'v1', 'created': 'Sat, 26 Sep 199...</td>\n",
              "      <td>NaN</td>\n",
              "      <td>math</td>\n",
              "      <td>164</td>\n",
              "      <td>michael frank</td>\n",
              "    </tr>\n",
              "  </tbody>\n",
              "</table>\n",
              "</div>"
            ],
            "text/plain": [
              "   Unnamed: 0  ...                                       author_clean\n",
              "0      256809  ...                                        hua shu dou\n",
              "1       45953  ...                                        v e  rochev\n",
              "2        7783  ...  k  s  kim,b  g  yu,m  k  cheoun,t  k  choi,m  ...\n",
              "3       79035  ...                       markus rampp,h  thomas janka\n",
              "4      253601  ...                                      michael frank\n",
              "\n",
              "[5 rows x 13 columns]"
            ]
          },
          "metadata": {
            "tags": []
          },
          "execution_count": 6
        },
        {
          "output_type": "stream",
          "text": [
            "time: 5.92 s\n"
          ],
          "name": "stdout"
        }
      ]
    },
    {
      "cell_type": "code",
      "metadata": {
        "colab": {
          "base_uri": "https://localhost:8080/"
        },
        "id": "KOojgb3uw6pd",
        "outputId": "3809ed5a-560d-4272-d786-077ad48f6067"
      },
      "source": [
        "df_train[\"trainingText\"] = df_train['title']+df_train['abstract']+df_train['author_clean']\n",
        "# df_test['column'] = df_test['title'] + df_test['abstract']"
      ],
      "execution_count": 7,
      "outputs": [
        {
          "output_type": "stream",
          "text": [
            "time: 458 ms\n"
          ],
          "name": "stdout"
        }
      ]
    },
    {
      "cell_type": "markdown",
      "metadata": {
        "id": "UYX3VUZs63n0"
      },
      "source": [
        "Exploratory Data Analysis"
      ]
    },
    {
      "cell_type": "code",
      "metadata": {
        "colab": {
          "base_uri": "https://localhost:8080/",
          "height": 337
        },
        "id": "bK3Z2W2W7DUD",
        "outputId": "5d6ca772-1fc9-4a83-951e-af265c95f548"
      },
      "source": [
        "# Number of different categories\n",
        "df_train['general_category'].value_counts()[:17].plot.bar()"
      ],
      "execution_count": 9,
      "outputs": [
        {
          "output_type": "execute_result",
          "data": {
            "text/plain": [
              "<matplotlib.axes._subplots.AxesSubplot at 0x7fc3761f2550>"
            ]
          },
          "metadata": {
            "tags": []
          },
          "execution_count": 9
        },
        {
          "output_type": "display_data",
          "data": {
            "image/png": "[encoded data removed]",
            "text/plain": [
              "<Figure size 432x288 with 1 Axes>"
            ]
          },
          "metadata": {
            "tags": [],
            "needs_background": "light"
          }
        },
        {
          "output_type": "stream",
          "text": [
            "time: 281 ms\n"
          ],
          "name": "stdout"
        }
      ]
    },
    {
      "cell_type": "markdown",
      "metadata": {
        "id": "wlJk6O8YAutV"
      },
      "source": [
        "Data Preprocessing"
      ]
    },
    {
      "cell_type": "code",
      "metadata": {
        "colab": {
          "base_uri": "https://localhost:8080/"
        },
        "id": "RpsW0khWAyKb",
        "outputId": "414581bf-9052-4e6b-a74c-f782d0debc46"
      },
      "source": [
        "# def, get_clean, (, x, )\n",
        "def get_clean(x):\n",
        "    # Remove all characters not in the English alphabet\n",
        "    x = re.sub(\"[^a-zA-Z]\",\" \", str(x))\n",
        "    x = str(x).lower()\n",
        "    x = re.sub(r'\\s+', ' ',x).strip()\n",
        "    return x"
      ],
      "execution_count": 10,
      "outputs": [
        {
          "output_type": "stream",
          "text": [
            "time: 2.41 ms\n"
          ],
          "name": "stdout"
        }
      ]
    },
    {
      "cell_type": "code",
      "metadata": {
        "colab": {
          "base_uri": "https://localhost:8080/"
        },
        "id": "y-DEO4HXBlyN",
        "outputId": "a52dcafc-c21f-4af4-b1d3-f3cb5fe8ed8d"
      },
      "source": [
        "df_train[\"trainingText\"] = df_train[\"trainingText\"].apply(lambda x: get_clean(x))\n",
        "# df_test['clean_abstract'] = df_test['column'].apply(data_cleaning)"
      ],
      "execution_count": 11,
      "outputs": [
        {
          "output_type": "stream",
          "text": [
            "time: 18.1 s\n"
          ],
          "name": "stdout"
        }
      ]
    },
    {
      "cell_type": "code",
      "metadata": {
        "id": "L6bz_9GVE_LO",
        "colab": {
          "base_uri": "https://localhost:8080/"
        },
        "outputId": "72a82c03-9642-4a68-e834-bd46ef2955fc"
      },
      "source": [
        "from sklearn.feature_extraction.text import TfidfVectorizer, CountVectorizer\n",
        "\n",
        "from nltk.stem.snowball import SnowballStemmer\n",
        "from nltk.tokenize import RegexpTokenizer\n",
        "\n",
        "stemmer = SnowballStemmer(\"english\")\n",
        "tokenizer = RegexpTokenizer(\"[a-z']+\")\n",
        "\n",
        "def tokenize(text):\n",
        "    tokens = tokenizer.tokenize(text)\n",
        "    return [stemmer.stem(t) for t in tokens] \n",
        "\n",
        "def get_tf(data, max_df=1.0, min_df=1, ngram_range=(1,3)):\n",
        "    m = TfidfVectorizer(max_df=max_df, min_df=min_df, stop_words='english', ngram_range=ngram_range, tokenizer=tokenize)\n",
        "    d = m.fit_transform(data)\n",
        "    return m, d\n",
        "\n",
        "tfidf_m, tfidf_d = get_tf(df_train[\"trainingText\"], max_df=0.90, min_df=10)\n",
        "n_topics = 17"
      ],
      "execution_count": 12,
      "outputs": [
        {
          "output_type": "stream",
          "text": [
            "/usr/local/lib/python3.6/dist-packages/sklearn/feature_extraction/text.py:385: UserWarning: Your stop_words may be inconsistent with your preprocessing. Tokenizing the stop words generated tokens ['abov', 'afterward', 'alon', 'alreadi', 'alway', 'ani', 'anoth', 'anyon', 'anyth', 'anywher', 'becam', 'becaus', 'becom', 'befor', 'besid', 'cri', 'describ', 'dure', 'els', 'elsewher', 'empti', 'everi', 'everyon', 'everyth', 'everywher', 'fifti', 'forti', 'henc', 'hereaft', 'herebi', 'howev', 'hundr', 'inde', 'mani', 'meanwhil', 'moreov', 'nobodi', 'noon', 'noth', 'nowher', 'onc', 'onli', 'otherwis', 'ourselv', 'perhap', 'pleas', 'sever', 'sinc', 'sincer', 'sixti', 'someon', 'someth', 'sometim', 'somewher', 'themselv', 'thenc', 'thereaft', 'therebi', 'therefor', 'togeth', 'twelv', 'twenti', 'veri', 'whatev', 'whenc', 'whenev', 'wherea', 'whereaft', 'wherebi', 'wherev', 'whi', 'yourselv'] not in stop_words.\n",
            "  'stop_words.' % sorted(inconsistent))\n"
          ],
          "name": "stderr"
        },
        {
          "output_type": "stream",
          "text": [
            "time: 8min 48s\n"
          ],
          "name": "stdout"
        }
      ]
    },
    {
      "cell_type": "code",
      "metadata": {
        "colab": {
          "base_uri": "https://localhost:8080/"
        },
        "id": "DOIo3SQ_dOiB",
        "outputId": "024bd9a0-d530-4316-d42a-26c11a9a2036"
      },
      "source": [
        "from sklearn.linear_model import LogisticRegression\n",
        "\n",
        "allcats = sorted(list(set(df_train['general_category'])))\n",
        "def binLR(x, y):\n",
        "    models = []\n",
        "    for c in allcats:\n",
        "        y_adj = np.array(y==c)\n",
        "        lm = LogisticRegression(max_iter=5000, solver = \"newton-cg\")\n",
        "        lm_f = lm.fit(x, y_adj)\n",
        "        models.append(lm_f)\n",
        "    return models\n",
        "\n",
        "lr_m = binLR(tfidf_d, df_train['general_category'])"
      ],
      "execution_count": 14,
      "outputs": [
        {
          "output_type": "stream",
          "text": [
            "time: 11min 19s\n"
          ],
          "name": "stdout"
        }
      ]
    },
    {
      "cell_type": "code",
      "metadata": {
        "colab": {
          "base_uri": "https://localhost:8080/",
          "height": 612
        },
        "id": "ij_yf7t3fbP2",
        "outputId": "9346f6ce-4c65-4043-e6b3-556c722c5f1a"
      },
      "source": [
        "%matplotlib inline\n",
        "import seaborn as sns\n",
        "\n",
        "def plot_coef(title, model, feature_names, n_words):\n",
        "    v = []\n",
        "    for topic_idx, topic in enumerate(model.coef_):\n",
        "        [v.append([feature_names[i], model.coef_.item(i)]) for i in topic.argsort()[-n_words - 1:-1]]\n",
        "        [v.append([feature_names[i], model.coef_.item(i)]) for i in topic.argsort()[0:n_words]]\n",
        "    df = pd.DataFrame(v, columns=['Term','Coefficient']).sort_values(by='Coefficient',ascending=False)\n",
        "    df['c'] = df['Coefficient']>0\n",
        "    # f = open('arxiv_keywords.txt', 'a')\n",
        "    # f.write('Category\\n\\n{}\\n\\nKeywords\\n\\n{}\\n\\n\\n'.format(topic, df))\n",
        "    # f.close()\n",
        "    colr = sns.cubehelix_palette()\n",
        "    ax = sns.barplot(data = df, x='Term', y='Coefficient', hue = \"c\",palette=colr).set_title(title)\n",
        "\n",
        "allcats\n",
        "n_terms = 10\n",
        "for c in range(17):\n",
        "    plot_coef('Top {N} words in ({R}) review model\\nGreen = Associated | Red = Not Associated'.format(N=n_terms*2, R=allcats[c]), \n",
        "              lr_m[c], tfidf_m.get_feature_names(), n_terms)"
      ],
      "execution_count": 15,
      "outputs": [
        {
          "output_type": "display_data",
          "data": {
            "image/png": "[encoded data removed]",
            "text/plain": [
              "<Figure size 432x288 with 1 Axes>"
            ]
          },
          "metadata": {
            "tags": [],
            "needs_background": "light"
          }
        },
        {
          "output_type": "stream",
          "text": [
            "time: 24.4 s\n"
          ],
          "name": "stdout"
        }
      ]
    },
    {
      "cell_type": "code",
      "metadata": {
        "colab": {
          "base_uri": "https://localhost:8080/"
        },
        "id": "XhRXoSlSQnb-",
        "outputId": "d6d6db90-f347-4409-bd34-a37712704dfa"
      },
      "source": [
        "def topFeature(text, category, n):\n",
        "  ''' Return the top features given a category'''\n",
        "  vectorizer = TfidfVectorizer()\n",
        "  df = text.head(10000)\n",
        "  df = df.loc[df['general_category'] == category]\n",
        "  X = vectorizer.fit_transform(df['trainingText'])\n",
        "  return X.toarray().min()"
      ],
      "execution_count": 16,
      "outputs": [
        {
          "output_type": "stream",
          "text": [
            "time: 3.49 ms\n"
          ],
          "name": "stdout"
        }
      ]
    },
    {
      "cell_type": "code",
      "metadata": {
        "colab": {
          "base_uri": "https://localhost:8080/"
        },
        "id": "Gvxppkq0T0Ji",
        "outputId": "1377af5d-408c-4be9-e9fe-ce8405fc220d"
      },
      "source": [
        "topFeature(df_train, 'astro-ph', 20)"
      ],
      "execution_count": 17,
      "outputs": [
        {
          "output_type": "execute_result",
          "data": {
            "text/plain": [
              "0.0"
            ]
          },
          "metadata": {
            "tags": []
          },
          "execution_count": 17
        },
        {
          "output_type": "stream",
          "text": [
            "time: 550 ms\n"
          ],
          "name": "stdout"
        }
      ]
    },
    {
      "cell_type": "code",
      "metadata": {
        "colab": {
          "base_uri": "https://localhost:8080/"
        },
        "id": "8Zs_TYlilQ-H",
        "outputId": "367054cb-475f-407e-808e-de919b06c49c"
      },
      "source": [
        "print((lr_m[0].coef_))"
      ],
      "execution_count": 19,
      "outputs": [
        {
          "output_type": "stream",
          "text": [
            "[[ 1.16433226  0.19253121  0.03855286 ... -0.01625947 -0.00620856\n",
            "  -0.01319636]]\n",
            "time: 2.48 ms\n"
          ],
          "name": "stdout"
        }
      ]
    },
    {
      "cell_type": "code",
      "metadata": {
        "colab": {
          "base_uri": "https://localhost:8080/",
          "height": 661
        },
        "id": "2e9Wa4i1UqKa",
        "outputId": "73fb5eb8-386a-46e3-efd0-9e60d08e130a"
      },
      "source": [
        "df_train.groupby('general_category').count()"
      ],
      "execution_count": 20,
      "outputs": [
        {
          "output_type": "execute_result",
          "data": {
            "text/html": [
              "<div>\n",
              "<style scoped>\n",
              "    .dataframe tbody tr th:only-of-type {\n",
              "        vertical-align: middle;\n",
              "    }\n",
              "\n",
              "    .dataframe tbody tr th {\n",
              "        vertical-align: top;\n",
              "    }\n",
              "\n",
              "    .dataframe thead th {\n",
              "        text-align: right;\n",
              "    }\n",
              "</style>\n",
              "<table border=\"1\" class=\"dataframe\">\n",
              "  <thead>\n",
              "    <tr style=\"text-align: right;\">\n",
              "      <th></th>\n",
              "      <th>Unnamed: 0</th>\n",
              "      <th>id</th>\n",
              "      <th>update_date</th>\n",
              "      <th>author</th>\n",
              "      <th>title</th>\n",
              "      <th>abstract</th>\n",
              "      <th>categories</th>\n",
              "      <th>journal</th>\n",
              "      <th>versions</th>\n",
              "      <th>doi</th>\n",
              "      <th>countWordsAbs</th>\n",
              "      <th>author_clean</th>\n",
              "      <th>trainingText</th>\n",
              "    </tr>\n",
              "    <tr>\n",
              "      <th>general_category</th>\n",
              "      <th></th>\n",
              "      <th></th>\n",
              "      <th></th>\n",
              "      <th></th>\n",
              "      <th></th>\n",
              "      <th></th>\n",
              "      <th></th>\n",
              "      <th></th>\n",
              "      <th></th>\n",
              "      <th></th>\n",
              "      <th></th>\n",
              "      <th></th>\n",
              "      <th></th>\n",
              "    </tr>\n",
              "  </thead>\n",
              "  <tbody>\n",
              "    <tr>\n",
              "      <th>astro-ph</th>\n",
              "      <td>60616</td>\n",
              "      <td>60616</td>\n",
              "      <td>60616</td>\n",
              "      <td>60616</td>\n",
              "      <td>60616</td>\n",
              "      <td>60616</td>\n",
              "      <td>60616</td>\n",
              "      <td>25761</td>\n",
              "      <td>60616</td>\n",
              "      <td>43885</td>\n",
              "      <td>60616</td>\n",
              "      <td>60616</td>\n",
              "      <td>60616</td>\n",
              "    </tr>\n",
              "    <tr>\n",
              "      <th>cond-mat</th>\n",
              "      <td>35905</td>\n",
              "      <td>35905</td>\n",
              "      <td>35905</td>\n",
              "      <td>35905</td>\n",
              "      <td>35905</td>\n",
              "      <td>35905</td>\n",
              "      <td>35905</td>\n",
              "      <td>17108</td>\n",
              "      <td>35905</td>\n",
              "      <td>27593</td>\n",
              "      <td>35905</td>\n",
              "      <td>35905</td>\n",
              "      <td>35905</td>\n",
              "    </tr>\n",
              "    <tr>\n",
              "      <th>cs</th>\n",
              "      <td>4762</td>\n",
              "      <td>4762</td>\n",
              "      <td>4762</td>\n",
              "      <td>4762</td>\n",
              "      <td>4762</td>\n",
              "      <td>4762</td>\n",
              "      <td>4762</td>\n",
              "      <td>1753</td>\n",
              "      <td>4762</td>\n",
              "      <td>227</td>\n",
              "      <td>4762</td>\n",
              "      <td>4762</td>\n",
              "      <td>4762</td>\n",
              "    </tr>\n",
              "    <tr>\n",
              "      <th>gr-qc</th>\n",
              "      <td>8118</td>\n",
              "      <td>8118</td>\n",
              "      <td>8118</td>\n",
              "      <td>8118</td>\n",
              "      <td>8118</td>\n",
              "      <td>8118</td>\n",
              "      <td>8118</td>\n",
              "      <td>5438</td>\n",
              "      <td>8118</td>\n",
              "      <td>5020</td>\n",
              "      <td>8118</td>\n",
              "      <td>8118</td>\n",
              "      <td>8118</td>\n",
              "    </tr>\n",
              "    <tr>\n",
              "      <th>hep-ex</th>\n",
              "      <td>4100</td>\n",
              "      <td>4100</td>\n",
              "      <td>4100</td>\n",
              "      <td>4100</td>\n",
              "      <td>4100</td>\n",
              "      <td>4100</td>\n",
              "      <td>4100</td>\n",
              "      <td>1972</td>\n",
              "      <td>4100</td>\n",
              "      <td>1889</td>\n",
              "      <td>4100</td>\n",
              "      <td>4100</td>\n",
              "      <td>4100</td>\n",
              "    </tr>\n",
              "    <tr>\n",
              "      <th>hep-lat</th>\n",
              "      <td>3823</td>\n",
              "      <td>3823</td>\n",
              "      <td>3823</td>\n",
              "      <td>3823</td>\n",
              "      <td>3823</td>\n",
              "      <td>3823</td>\n",
              "      <td>3823</td>\n",
              "      <td>2965</td>\n",
              "      <td>3823</td>\n",
              "      <td>2749</td>\n",
              "      <td>3823</td>\n",
              "      <td>3823</td>\n",
              "      <td>3823</td>\n",
              "    </tr>\n",
              "    <tr>\n",
              "      <th>hep-ph</th>\n",
              "      <td>28507</td>\n",
              "      <td>28507</td>\n",
              "      <td>28507</td>\n",
              "      <td>28507</td>\n",
              "      <td>28507</td>\n",
              "      <td>28507</td>\n",
              "      <td>28507</td>\n",
              "      <td>18662</td>\n",
              "      <td>28507</td>\n",
              "      <td>18180</td>\n",
              "      <td>28507</td>\n",
              "      <td>28507</td>\n",
              "      <td>28507</td>\n",
              "    </tr>\n",
              "    <tr>\n",
              "      <th>hep-th</th>\n",
              "      <td>21318</td>\n",
              "      <td>21318</td>\n",
              "      <td>21318</td>\n",
              "      <td>21318</td>\n",
              "      <td>21318</td>\n",
              "      <td>21318</td>\n",
              "      <td>21318</td>\n",
              "      <td>15768</td>\n",
              "      <td>21318</td>\n",
              "      <td>15259</td>\n",
              "      <td>21318</td>\n",
              "      <td>21318</td>\n",
              "      <td>21318</td>\n",
              "    </tr>\n",
              "    <tr>\n",
              "      <th>math</th>\n",
              "      <td>25895</td>\n",
              "      <td>25895</td>\n",
              "      <td>25895</td>\n",
              "      <td>25895</td>\n",
              "      <td>25895</td>\n",
              "      <td>25895</td>\n",
              "      <td>25895</td>\n",
              "      <td>4940</td>\n",
              "      <td>25895</td>\n",
              "      <td>2013</td>\n",
              "      <td>25895</td>\n",
              "      <td>25895</td>\n",
              "      <td>25895</td>\n",
              "    </tr>\n",
              "    <tr>\n",
              "      <th>nlin</th>\n",
              "      <td>2696</td>\n",
              "      <td>2696</td>\n",
              "      <td>2696</td>\n",
              "      <td>2696</td>\n",
              "      <td>2696</td>\n",
              "      <td>2696</td>\n",
              "      <td>2696</td>\n",
              "      <td>777</td>\n",
              "      <td>2696</td>\n",
              "      <td>1566</td>\n",
              "      <td>2696</td>\n",
              "      <td>2696</td>\n",
              "      <td>2696</td>\n",
              "    </tr>\n",
              "    <tr>\n",
              "      <th>nucl-ex</th>\n",
              "      <td>1995</td>\n",
              "      <td>1995</td>\n",
              "      <td>1995</td>\n",
              "      <td>1995</td>\n",
              "      <td>1995</td>\n",
              "      <td>1995</td>\n",
              "      <td>1995</td>\n",
              "      <td>1502</td>\n",
              "      <td>1995</td>\n",
              "      <td>1452</td>\n",
              "      <td>1995</td>\n",
              "      <td>1995</td>\n",
              "      <td>1995</td>\n",
              "    </tr>\n",
              "    <tr>\n",
              "      <th>nucl-th</th>\n",
              "      <td>7294</td>\n",
              "      <td>7294</td>\n",
              "      <td>7294</td>\n",
              "      <td>7294</td>\n",
              "      <td>7294</td>\n",
              "      <td>7294</td>\n",
              "      <td>7294</td>\n",
              "      <td>5568</td>\n",
              "      <td>7294</td>\n",
              "      <td>5532</td>\n",
              "      <td>7294</td>\n",
              "      <td>7294</td>\n",
              "      <td>7294</td>\n",
              "    </tr>\n",
              "    <tr>\n",
              "      <th>physics</th>\n",
              "      <td>9461</td>\n",
              "      <td>9461</td>\n",
              "      <td>9461</td>\n",
              "      <td>9461</td>\n",
              "      <td>9461</td>\n",
              "      <td>9461</td>\n",
              "      <td>9461</td>\n",
              "      <td>3310</td>\n",
              "      <td>9461</td>\n",
              "      <td>4054</td>\n",
              "      <td>9461</td>\n",
              "      <td>9461</td>\n",
              "      <td>9461</td>\n",
              "    </tr>\n",
              "    <tr>\n",
              "      <th>q-bio</th>\n",
              "      <td>1178</td>\n",
              "      <td>1178</td>\n",
              "      <td>1178</td>\n",
              "      <td>1178</td>\n",
              "      <td>1178</td>\n",
              "      <td>1178</td>\n",
              "      <td>1178</td>\n",
              "      <td>384</td>\n",
              "      <td>1178</td>\n",
              "      <td>427</td>\n",
              "      <td>1178</td>\n",
              "      <td>1178</td>\n",
              "      <td>1178</td>\n",
              "    </tr>\n",
              "    <tr>\n",
              "      <th>q-fin</th>\n",
              "      <td>73</td>\n",
              "      <td>73</td>\n",
              "      <td>73</td>\n",
              "      <td>73</td>\n",
              "      <td>73</td>\n",
              "      <td>73</td>\n",
              "      <td>73</td>\n",
              "      <td>15</td>\n",
              "      <td>73</td>\n",
              "      <td>8</td>\n",
              "      <td>73</td>\n",
              "      <td>73</td>\n",
              "      <td>73</td>\n",
              "    </tr>\n",
              "    <tr>\n",
              "      <th>quant-ph</th>\n",
              "      <td>15298</td>\n",
              "      <td>15298</td>\n",
              "      <td>15298</td>\n",
              "      <td>15298</td>\n",
              "      <td>15298</td>\n",
              "      <td>15298</td>\n",
              "      <td>15298</td>\n",
              "      <td>7592</td>\n",
              "      <td>15298</td>\n",
              "      <td>9014</td>\n",
              "      <td>15298</td>\n",
              "      <td>15298</td>\n",
              "      <td>15298</td>\n",
              "    </tr>\n",
              "    <tr>\n",
              "      <th>stat</th>\n",
              "      <td>433</td>\n",
              "      <td>433</td>\n",
              "      <td>433</td>\n",
              "      <td>433</td>\n",
              "      <td>433</td>\n",
              "      <td>433</td>\n",
              "      <td>433</td>\n",
              "      <td>229</td>\n",
              "      <td>433</td>\n",
              "      <td>224</td>\n",
              "      <td>433</td>\n",
              "      <td>433</td>\n",
              "      <td>433</td>\n",
              "    </tr>\n",
              "  </tbody>\n",
              "</table>\n",
              "</div>"
            ],
            "text/plain": [
              "                  Unnamed: 0     id  ...  author_clean  trainingText\n",
              "general_category                     ...                            \n",
              "astro-ph               60616  60616  ...         60616         60616\n",
              "cond-mat               35905  35905  ...         35905         35905\n",
              "cs                      4762   4762  ...          4762          4762\n",
              "gr-qc                   8118   8118  ...          8118          8118\n",
              "hep-ex                  4100   4100  ...          4100          4100\n",
              "hep-lat                 3823   3823  ...          3823          3823\n",
              "hep-ph                 28507  28507  ...         28507         28507\n",
              "hep-th                 21318  21318  ...         21318         21318\n",
              "math                   25895  25895  ...         25895         25895\n",
              "nlin                    2696   2696  ...          2696          2696\n",
              "nucl-ex                 1995   1995  ...          1995          1995\n",
              "nucl-th                 7294   7294  ...          7294          7294\n",
              "physics                 9461   9461  ...          9461          9461\n",
              "q-bio                   1178   1178  ...          1178          1178\n",
              "q-fin                     73     73  ...            73            73\n",
              "quant-ph               15298  15298  ...         15298         15298\n",
              "stat                     433    433  ...           433           433\n",
              "\n",
              "[17 rows x 13 columns]"
            ]
          },
          "metadata": {
            "tags": []
          },
          "execution_count": 20
        },
        {
          "output_type": "stream",
          "text": [
            "time: 457 ms\n"
          ],
          "name": "stdout"
        }
      ]
    }
  ]
}