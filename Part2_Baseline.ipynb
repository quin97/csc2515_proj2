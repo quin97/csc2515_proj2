{
  "nbformat": 4,
  "nbformat_minor": 0,
  "metadata": {
    "colab": {
      "name": "Part2_Baseline.ipynb",
      "provenance": []
    },
    "kernelspec": {
      "name": "python3",
      "display_name": "Python 3"
    }
  },
  "cells": [
    {
      "cell_type": "code",
      "metadata": {
        "colab": {
          "base_uri": "https://localhost:8080/"
        },
        "id": "ir729l_X67W1",
        "outputId": "04699bdd-da5e-4534-d26a-0f03ec7f9614"
      },
      "source": [
        "from google.colab import drive\n",
        "drive.mount('/content/drive')"
      ],
      "execution_count": null,
      "outputs": [
        {
          "output_type": "stream",
          "text": [
            "Drive already mounted at /content/drive; to attempt to forcibly remount, call drive.mount(\"/content/drive\", force_remount=True).\n"
          ],
          "name": "stdout"
        }
      ]
    },
    {
      "cell_type": "code",
      "metadata": {
        "colab": {
          "base_uri": "https://localhost:8080/"
        },
        "id": "4qhuylpS7Bw8",
        "outputId": "ef1aba31-984c-4318-d8e2-9967388fb02e"
      },
      "source": [
        "cd /content/drive/MyDrive/Colab Notebooks/Part2"
      ],
      "execution_count": null,
      "outputs": [
        {
          "output_type": "stream",
          "text": [
            "/content/drive/MyDrive/Colab Notebooks/Part2\n"
          ],
          "name": "stdout"
        }
      ]
    },
    {
      "cell_type": "code",
      "metadata": {
        "id": "OIEJEUp77C5s"
      },
      "source": [
        "import sklearn\n",
        "import pandas as pd"
      ],
      "execution_count": null,
      "outputs": []
    },
    {
      "cell_type": "code",
      "metadata": {
        "id": "zWumzK_k7F3e"
      },
      "source": [
        "df_train = pd.read_csv(\"train.csv\")\n",
        "df_test = pd.read_csv(\"test.csv\")\n",
        "\n",
        "df_train = df_train.sample(100000)\n",
        "df_test = df_test.sample(2500)\n",
        "\n",
        "df_train['column'] = df_train['title'] + df_train['abstract']\n",
        "df_test['column'] = df_test['title'] + df_test['abstract']"
      ],
      "execution_count": null,
      "outputs": []
    },
    {
      "cell_type": "code",
      "metadata": {
        "id": "Rjsdy7RV7KNE"
      },
      "source": [
        "from sklearn.feature_extraction.text import TfidfVectorizer\n",
        "# baseline TFIDF\n",
        "vectorizer = TfidfVectorizer(min_df=0.05,ngram_range=(1,1))\n",
        "X_train = vectorizer.fit_transform(df_train['column'])\n",
        "X_test = vectorizer.transform(df_test['column'])"
      ],
      "execution_count": null,
      "outputs": []
    },
    {
      "cell_type": "code",
      "metadata": {
        "id": "oSW_V5z47nNV"
      },
      "source": [
        "y_train = df_train[\"general_category\"].values\n",
        "y_test = df_test[\"general_category\"].values"
      ],
      "execution_count": null,
      "outputs": []
    },
    {
      "cell_type": "code",
      "metadata": {
        "colab": {
          "base_uri": "https://localhost:8080/"
        },
        "id": "Pvz_a7Tu7fP1",
        "outputId": "e3e973ca-9081-4c9f-f1e3-a646fd43b369"
      },
      "source": [
        "import sklearn\n",
        "from sklearn.svm import SVC\n",
        "from sklearn.metrics import (accuracy_score, classification_report, confusion_matrix, f1_score)\n",
        "                             \n",
        "print('SVC model fitting......')\n",
        "clf_SVC = SVC()\n",
        "clf_SVC.fit(X_train, y_train)\n",
        "print(\"SVC: \" + str(accuracy_score(y_test, clf_SVC.predict(X_test))))"
      ],
      "execution_count": null,
      "outputs": [
        {
          "output_type": "stream",
          "text": [
            "SVC model fitting......\n",
            "SVC: 0.7285\n"
          ],
          "name": "stdout"
        }
      ]
    },
    {
      "cell_type": "code",
      "metadata": {
        "colab": {
          "base_uri": "https://localhost:8080/"
        },
        "id": "GQhNwmE43KXB",
        "outputId": "0872edb8-ef93-4c2b-ddbc-3bd7d7be489c"
      },
      "source": [
        "print('SVC Classification Report:\\n\\n',classification_report(y_test, clf_SVC.predict(X_test)))"
      ],
      "execution_count": null,
      "outputs": [
        {
          "output_type": "stream",
          "text": [
            "SVC Classification Report:\n",
            "\n",
            "               precision    recall  f1-score   support\n",
            "\n",
            "    astro-ph       0.89      0.94      0.92       507\n",
            "    cond-mat       0.68      0.82      0.74       322\n",
            "          cs       0.50      0.48      0.49        42\n",
            "       gr-qc       0.55      0.25      0.35        67\n",
            "      hep-ex       0.74      0.57      0.65        35\n",
            "     hep-lat       0.70      0.28      0.40        25\n",
            "      hep-ph       0.66      0.74      0.70       256\n",
            "      hep-th       0.64      0.67      0.66       204\n",
            "        math       0.75      0.87      0.80       212\n",
            "        nlin       0.00      0.00      0.00        17\n",
            "     nucl-ex       0.71      0.26      0.38        19\n",
            "     nucl-th       0.72      0.36      0.48        72\n",
            "     physics       0.33      0.13      0.19        75\n",
            "       q-bio       0.00      0.00      0.00        11\n",
            "       q-fin       0.00      0.00      0.00         1\n",
            "    quant-ph       0.68      0.77      0.72       130\n",
            "        stat       0.00      0.00      0.00         5\n",
            "\n",
            "    accuracy                           0.73      2000\n",
            "   macro avg       0.50      0.42      0.44      2000\n",
            "weighted avg       0.70      0.73      0.71      2000\n",
            "\n"
          ],
          "name": "stdout"
        },
        {
          "output_type": "stream",
          "text": [
            "/usr/local/lib/python3.6/dist-packages/sklearn/metrics/_classification.py:1272: UndefinedMetricWarning: Precision and F-score are ill-defined and being set to 0.0 in labels with no predicted samples. Use `zero_division` parameter to control this behavior.\n",
            "  _warn_prf(average, modifier, msg_start, len(result))\n"
          ],
          "name": "stderr"
        }
      ]
    },
    {
      "cell_type": "code",
      "metadata": {
        "colab": {
          "base_uri": "https://localhost:8080/"
        },
        "id": "gyjBtQY43LiP",
        "outputId": "45b1aa74-2c92-42ae-9fb1-06823bacc63a"
      },
      "source": [
        "print('SVC Confusion Matrix:\\n\\n',confusion_matrix(y_test, clf_SVC.predict(X_test)))"
      ],
      "execution_count": null,
      "outputs": [
        {
          "output_type": "stream",
          "text": [
            "SVC Confusion Matrix:\n",
            "\n",
            " [[477   9   2   0   0   0  12   2   3   0   0   0   2   0   0   0   0]\n",
            " [ 10 264   3   3   1   0  13   3   4   0   0   4   4   0   0  13   0]\n",
            " [  6   1  20   0   0   0   0   1  11   0   0   0   3   0   0   0   0]\n",
            " [  7   6   0  17   0   0   4  18   3   0   0   0   3   0   0   9   0]\n",
            " [  3   1   0   0  20   0   7   1   0   0   1   0   2   0   0   0   0]\n",
            " [  1   5   0   1   0   7   4   6   0   0   0   0   1   0   0   0   0]\n",
            " [ 11  13   0   0   2   1 190  26   6   0   1   2   1   0   0   3   0]\n",
            " [  3  13   1   6   0   2  13 136  19   0   0   1   0   0   0  10   0]\n",
            " [  2   6   5   1   0   0   5   4 185   0   0   0   0   0   0   4   0]\n",
            " [  3   7   1   0   0   0   0   0   4   0   0   0   1   0   0   1   0]\n",
            " [  3   4   0   0   1   0   4   0   0   0   5   1   1   0   0   0   0]\n",
            " [  2  13   0   0   0   0  25   3   1   0   0  26   0   0   0   2   0]\n",
            " [  4  29   3   3   3   0   5   4   8   0   0   1  10   0   0   5   0]\n",
            " [  1   6   2   0   0   0   1   0   1   0   0   0   0   0   0   0   0]\n",
            " [  1   0   0   0   0   0   0   0   0   0   0   0   0   0   0   0   0]\n",
            " [  0  11   1   0   0   0   5   7   3   0   0   1   2   0   0 100   0]\n",
            " [  0   1   2   0   0   0   2   0   0   0   0   0   0   0   0   0   0]]\n"
          ],
          "name": "stdout"
        }
      ]
    },
    {
      "cell_type": "code",
      "metadata": {
        "colab": {
          "base_uri": "https://localhost:8080/"
        },
        "id": "IrZ0ilmW3M6W",
        "outputId": "3e53ed37-2249-4a09-8709-32d2dea0f4f0"
      },
      "source": [
        "from sklearn.metrics import hamming_loss\n",
        "\n",
        "print('SVC Hamming Loss: ', hamming_loss(y_test, clf_SVC.predict(X_test)))"
      ],
      "execution_count": null,
      "outputs": [
        {
          "output_type": "stream",
          "text": [
            "SVC Hamming Loss:  0.2715\n"
          ],
          "name": "stdout"
        }
      ]
    },
    {
      "cell_type": "code",
      "metadata": {
        "colab": {
          "base_uri": "https://localhost:8080/"
        },
        "id": "MSo7kW8m3Oil",
        "outputId": "b64653a2-d14c-4a94-ddba-66c6fb0be516"
      },
      "source": [
        "from sklearn.neighbors import KNeighborsClassifier\n",
        "\n",
        "print('KNN model fitting......')\n",
        "clf_KNN = KNeighborsClassifier(n_neighbors=5)\n",
        "clf_KNN.fit(X_train, y_train)\n",
        "print(\"KNN: \" + str(accuracy_score(y_test, clf_KNN.predict(X_test))))"
      ],
      "execution_count": null,
      "outputs": [
        {
          "output_type": "stream",
          "text": [
            "KNN model fitting......\n",
            "KNN: 0.6005\n"
          ],
          "name": "stdout"
        }
      ]
    },
    {
      "cell_type": "code",
      "metadata": {
        "colab": {
          "base_uri": "https://localhost:8080/"
        },
        "id": "LmSX2X-Q3Psu",
        "outputId": "9e4a4acd-f747-474d-e6d8-790efd0f0410"
      },
      "source": [
        "print('KNN Classification Report:\\n\\n',classification_report(y_test, clf_KNN.predict(X_test)))\n",
        "print('\\n\\nKNN Confusion Matrix:\\n\\n',confusion_matrix(y_test, clf_KNN.predict(X_test)))\n",
        "print('\\n\\nKNN Hamming Loss: ', hamming_loss(y_test, clf_KNN.predict(X_test)))"
      ],
      "execution_count": null,
      "outputs": [
        {
          "output_type": "stream",
          "text": [
            "/usr/local/lib/python3.6/dist-packages/sklearn/metrics/_classification.py:1272: UndefinedMetricWarning: Precision and F-score are ill-defined and being set to 0.0 in labels with no predicted samples. Use `zero_division` parameter to control this behavior.\n",
            "  _warn_prf(average, modifier, msg_start, len(result))\n"
          ],
          "name": "stderr"
        },
        {
          "output_type": "stream",
          "text": [
            "KNN Classification Report:\n",
            "\n",
            "               precision    recall  f1-score   support\n",
            "\n",
            "    astro-ph       0.67      0.94      0.78       507\n",
            "    cond-mat       0.60      0.61      0.61       322\n",
            "          cs       0.30      0.31      0.31        42\n",
            "       gr-qc       0.34      0.19      0.25        67\n",
            "      hep-ex       0.43      0.43      0.43        35\n",
            "     hep-lat       0.25      0.08      0.12        25\n",
            "      hep-ph       0.57      0.49      0.52       256\n",
            "      hep-th       0.60      0.49      0.54       204\n",
            "        math       0.60      0.71      0.65       212\n",
            "        nlin       0.33      0.06      0.10        17\n",
            "     nucl-ex       0.33      0.16      0.21        19\n",
            "     nucl-th       0.55      0.24      0.33        72\n",
            "     physics       0.11      0.04      0.06        75\n",
            "       q-bio       0.50      0.09      0.15        11\n",
            "       q-fin       0.00      0.00      0.00         1\n",
            "    quant-ph       0.69      0.65      0.67       130\n",
            "        stat       0.00      0.00      0.00         5\n",
            "\n",
            "    accuracy                           0.60      2000\n",
            "   macro avg       0.40      0.32      0.34      2000\n",
            "weighted avg       0.57      0.60      0.57      2000\n",
            "\n",
            "\n",
            "\n",
            "KNN Confusion Matrix:\n",
            "\n",
            " [[475   9   1   1   3   0   5   1   6   0   0   1   4   0   0   0   1]\n",
            " [ 64 198   4   3   0   0  13   8   8   0   1   3   5   1   0  14   0]\n",
            " [  9   2  13   0   0   0   3   0  13   0   0   0   2   0   0   0   0]\n",
            " [ 11   8   1  13   0   0   6  15   6   0   0   1   2   0   0   4   0]\n",
            " [  9   0   0   1  15   0   7   0   2   0   1   0   0   0   0   0   0]\n",
            " [  6   5   1   0   0   2   2   6   2   0   0   0   1   0   0   0   0]\n",
            " [ 51  19   3   4   7   6 125  19  10   0   1   4   4   0   0   3   0]\n",
            " [ 17  22   2   7   0   0  19 100  27   1   0   2   1   0   0   6   0]\n",
            " [ 18   8   9   3   1   0   7   7 151   1   0   1   2   0   0   4   0]\n",
            " [  3   6   1   1   0   0   2   1   1   1   0   0   0   0   0   1   0]\n",
            " [  5   3   0   0   5   0   2   0   0   0   3   0   0   0   0   1   0]\n",
            " [ 13  12   1   0   2   0  19   2   3   0   1  17   1   0   0   1   0]\n",
            " [ 24  17   2   4   2   0   6   4   7   0   2   1   3   0   0   3   0]\n",
            " [  2   0   1   0   0   0   1   0   3   0   0   1   1   1   0   1   0]\n",
            " [  1   0   0   0   0   0   0   0   0   0   0   0   0   0   0   0   0]\n",
            " [  4  19   4   1   0   0   2   4  11   0   0   0   1   0   0  84   0]\n",
            " [  1   0   0   0   0   0   2   1   0   0   0   0   1   0   0   0   0]]\n",
            "\n",
            "\n",
            "KNN Hamming Loss:  0.3995\n"
          ],
          "name": "stdout"
        }
      ]
    },
    {
      "cell_type": "code",
      "metadata": {
        "colab": {
          "base_uri": "https://localhost:8080/"
        },
        "id": "giTxB2Yh3RJT",
        "outputId": "47f078a3-f188-43ac-d7fd-5067aac9fca1"
      },
      "source": [
        "from sklearn.linear_model import LogisticRegression\n",
        "\n",
        "print('Logistic Regression model fitting......')\n",
        "clf_LR = LogisticRegression(max_iter=5000)\n",
        "clf_LR.fit(X_train, y_train)\n",
        "print(\"Logistic Regression: \" + str(accuracy_score(y_test, clf_LR.predict(X_test))))"
      ],
      "execution_count": null,
      "outputs": [
        {
          "output_type": "stream",
          "text": [
            "Logistic Regression model fitting......\n",
            "Logistic Regression: 0.689\n"
          ],
          "name": "stdout"
        }
      ]
    },
    {
      "cell_type": "code",
      "metadata": {
        "colab": {
          "base_uri": "https://localhost:8080/"
        },
        "id": "JyzTzt8J3TAv",
        "outputId": "5fb20b1e-0b3b-441f-9951-12d2fbba29d7"
      },
      "source": [
        "print('Logistic Regression Classification Report:\\n\\n',classification_report(y_test, clf_LR.predict(X_test)))\n",
        "print('\\nLogistic Regression Confusion Matrix:\\n\\n',confusion_matrix(y_test, clf_LR.predict(X_test)))\n",
        "print('\\nLogistic Regression Hamming Loss: ', hamming_loss(y_test, clf_LR.predict(X_test)))"
      ],
      "execution_count": null,
      "outputs": [
        {
          "output_type": "stream",
          "text": [
            "Logistic Regression Classification Report:\n",
            "\n",
            "               precision    recall  f1-score   support\n",
            "\n",
            "    astro-ph       0.87      0.93      0.90       507\n",
            "    cond-mat       0.64      0.75      0.69       322\n",
            "          cs       0.44      0.50      0.47        42\n",
            "       gr-qc       0.48      0.21      0.29        67\n",
            "      hep-ex       0.75      0.51      0.61        35\n",
            "     hep-lat       0.54      0.28      0.37        25\n",
            "      hep-ph       0.58      0.68      0.62       256\n",
            "      hep-th       0.65      0.64      0.65       204\n",
            "        math       0.72      0.82      0.76       212\n",
            "        nlin       0.00      0.00      0.00        17\n",
            "     nucl-ex       0.57      0.21      0.31        19\n",
            "     nucl-th       0.54      0.31      0.39        72\n",
            "     physics       0.26      0.08      0.12        75\n",
            "       q-bio       0.00      0.00      0.00        11\n",
            "       q-fin       0.00      0.00      0.00         1\n",
            "    quant-ph       0.64      0.72      0.68       130\n",
            "        stat       0.00      0.00      0.00         5\n",
            "\n",
            "    accuracy                           0.69      2000\n",
            "   macro avg       0.45      0.39      0.40      2000\n",
            "weighted avg       0.66      0.69      0.67      2000\n",
            "\n",
            "\n",
            "Logistic Regression Confusion Matrix:\n",
            "\n",
            " [[472   9   2   0   0   0  19   1   3   0   0   0   0   0   0   1   0]\n",
            " [ 14 243   3   1   1   0  19   8   5   1   0   6   4   0   0  17   0]\n",
            " [  6   1  21   0   0   0   2   1   8   0   0   0   3   0   0   0   0]\n",
            " [  9   4   1  14   0   1   8  12   5   1   0   0   2   0   0  10   0]\n",
            " [  3   2   0   0  18   0   8   0   0   0   1   2   1   0   0   0   0]\n",
            " [  1   5   1   1   0   7   4   5   1   0   0   0   0   0   0   0   0]\n",
            " [ 15  24   1   0   2   1 173  27   5   0   0   4   2   0   0   2   0]\n",
            " [  3  12   0   5   0   3  16 131  23   0   0   1   1   0   0   9   0]\n",
            " [  2   4   9   3   0   0   8   4 173   1   0   1   1   0   0   6   0]\n",
            " [  4   6   0   0   0   0   1   1   3   0   0   0   0   0   0   2   0]\n",
            " [  2   5   0   0   0   1   2   0   0   0   4   4   1   0   0   0   0]\n",
            " [  1  16   0   0   1   0  22   4   1   0   1  22   0   0   0   4   0]\n",
            " [  8  29   4   4   2   0   9   3   7   0   1   0   6   0   0   2   0]\n",
            " [  1   5   2   0   0   0   1   0   1   1   0   0   0   0   0   0   0]\n",
            " [  1   0   0   0   0   0   0   0   0   0   0   0   0   0   0   0   0]\n",
            " [  2  14   2   1   0   0   4   5   5   0   0   1   2   0   0  94   0]\n",
            " [  0   0   2   0   0   0   2   0   1   0   0   0   0   0   0   0   0]]\n",
            "\n",
            "Logistic Regression Hamming Loss:  0.311\n"
          ],
          "name": "stdout"
        },
        {
          "output_type": "stream",
          "text": [
            "/usr/local/lib/python3.6/dist-packages/sklearn/metrics/_classification.py:1272: UndefinedMetricWarning: Precision and F-score are ill-defined and being set to 0.0 in labels with no predicted samples. Use `zero_division` parameter to control this behavior.\n",
            "  _warn_prf(average, modifier, msg_start, len(result))\n"
          ],
          "name": "stderr"
        }
      ]
    }
  ]
}